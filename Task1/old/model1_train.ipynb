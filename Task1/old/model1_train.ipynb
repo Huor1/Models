{
 "cells": [
  {
   "cell_type": "code",
   "execution_count": 7,
   "id": "9ab0370d",
   "metadata": {
    "execution": {
     "iopub.execute_input": "2023-12-12T22:19:07.638948Z",
     "iopub.status.busy": "2023-12-12T22:19:07.637586Z",
     "iopub.status.idle": "2023-12-12T22:19:08.105600Z",
     "shell.execute_reply": "2023-12-12T22:19:08.104203Z"
    },
    "papermill": {
     "duration": 0.486117,
     "end_time": "2023-12-12T22:19:08.109034",
     "exception": false,
     "start_time": "2023-12-12T22:19:07.622917",
     "status": "completed"
    },
    "tags": []
   },
   "outputs": [
    {
     "ename": "FileNotFoundError",
     "evalue": "[Errno 2] No such file or directory: 'Car_Prices_Poland_Kaggle.csv/Car_Prices_Poland_Kaggle.csv'",
     "output_type": "error",
     "traceback": [
      "\u001b[0;31m---------------------------------------------------------------------------\u001b[0m",
      "\u001b[0;31mFileNotFoundError\u001b[0m                         Traceback (most recent call last)",
      "Cell \u001b[0;32mIn[7], line 4\u001b[0m\n\u001b[1;32m      2\u001b[0m \u001b[38;5;28;01mimport\u001b[39;00m \u001b[38;5;21;01mpandas\u001b[39;00m \u001b[38;5;28;01mas\u001b[39;00m \u001b[38;5;21;01mpd\u001b[39;00m\n\u001b[1;32m      3\u001b[0m \u001b[38;5;28;01mimport\u001b[39;00m \u001b[38;5;21;01mjoblib\u001b[39;00m\n\u001b[0;32m----> 4\u001b[0m df \u001b[38;5;241m=\u001b[39m \u001b[43mpd\u001b[49m\u001b[38;5;241;43m.\u001b[39;49m\u001b[43mread_csv\u001b[49m\u001b[43m(\u001b[49m\u001b[38;5;124;43m'\u001b[39;49m\u001b[38;5;124;43mCar_Prices_Poland_Kaggle.csv/Car_Prices_Poland_Kaggle.csv\u001b[39;49m\u001b[38;5;124;43m'\u001b[39;49m\u001b[43m)\u001b[49m\n\u001b[1;32m      5\u001b[0m df\u001b[38;5;241m.\u001b[39mhead()\n",
      "File \u001b[0;32m~/.local/lib/python3.8/site-packages/pandas/io/parsers/readers.py:912\u001b[0m, in \u001b[0;36mread_csv\u001b[0;34m(filepath_or_buffer, sep, delimiter, header, names, index_col, usecols, dtype, engine, converters, true_values, false_values, skipinitialspace, skiprows, skipfooter, nrows, na_values, keep_default_na, na_filter, verbose, skip_blank_lines, parse_dates, infer_datetime_format, keep_date_col, date_parser, date_format, dayfirst, cache_dates, iterator, chunksize, compression, thousands, decimal, lineterminator, quotechar, quoting, doublequote, escapechar, comment, encoding, encoding_errors, dialect, on_bad_lines, delim_whitespace, low_memory, memory_map, float_precision, storage_options, dtype_backend)\u001b[0m\n\u001b[1;32m    899\u001b[0m kwds_defaults \u001b[38;5;241m=\u001b[39m _refine_defaults_read(\n\u001b[1;32m    900\u001b[0m     dialect,\n\u001b[1;32m    901\u001b[0m     delimiter,\n\u001b[0;32m   (...)\u001b[0m\n\u001b[1;32m    908\u001b[0m     dtype_backend\u001b[38;5;241m=\u001b[39mdtype_backend,\n\u001b[1;32m    909\u001b[0m )\n\u001b[1;32m    910\u001b[0m kwds\u001b[38;5;241m.\u001b[39mupdate(kwds_defaults)\n\u001b[0;32m--> 912\u001b[0m \u001b[38;5;28;01mreturn\u001b[39;00m \u001b[43m_read\u001b[49m\u001b[43m(\u001b[49m\u001b[43mfilepath_or_buffer\u001b[49m\u001b[43m,\u001b[49m\u001b[43m \u001b[49m\u001b[43mkwds\u001b[49m\u001b[43m)\u001b[49m\n",
      "File \u001b[0;32m~/.local/lib/python3.8/site-packages/pandas/io/parsers/readers.py:577\u001b[0m, in \u001b[0;36m_read\u001b[0;34m(filepath_or_buffer, kwds)\u001b[0m\n\u001b[1;32m    574\u001b[0m _validate_names(kwds\u001b[38;5;241m.\u001b[39mget(\u001b[38;5;124m\"\u001b[39m\u001b[38;5;124mnames\u001b[39m\u001b[38;5;124m\"\u001b[39m, \u001b[38;5;28;01mNone\u001b[39;00m))\n\u001b[1;32m    576\u001b[0m \u001b[38;5;66;03m# Create the parser.\u001b[39;00m\n\u001b[0;32m--> 577\u001b[0m parser \u001b[38;5;241m=\u001b[39m \u001b[43mTextFileReader\u001b[49m\u001b[43m(\u001b[49m\u001b[43mfilepath_or_buffer\u001b[49m\u001b[43m,\u001b[49m\u001b[43m \u001b[49m\u001b[38;5;241;43m*\u001b[39;49m\u001b[38;5;241;43m*\u001b[39;49m\u001b[43mkwds\u001b[49m\u001b[43m)\u001b[49m\n\u001b[1;32m    579\u001b[0m \u001b[38;5;28;01mif\u001b[39;00m chunksize \u001b[38;5;129;01mor\u001b[39;00m iterator:\n\u001b[1;32m    580\u001b[0m     \u001b[38;5;28;01mreturn\u001b[39;00m parser\n",
      "File \u001b[0;32m~/.local/lib/python3.8/site-packages/pandas/io/parsers/readers.py:1407\u001b[0m, in \u001b[0;36mTextFileReader.__init__\u001b[0;34m(self, f, engine, **kwds)\u001b[0m\n\u001b[1;32m   1404\u001b[0m     \u001b[38;5;28mself\u001b[39m\u001b[38;5;241m.\u001b[39moptions[\u001b[38;5;124m\"\u001b[39m\u001b[38;5;124mhas_index_names\u001b[39m\u001b[38;5;124m\"\u001b[39m] \u001b[38;5;241m=\u001b[39m kwds[\u001b[38;5;124m\"\u001b[39m\u001b[38;5;124mhas_index_names\u001b[39m\u001b[38;5;124m\"\u001b[39m]\n\u001b[1;32m   1406\u001b[0m \u001b[38;5;28mself\u001b[39m\u001b[38;5;241m.\u001b[39mhandles: IOHandles \u001b[38;5;241m|\u001b[39m \u001b[38;5;28;01mNone\u001b[39;00m \u001b[38;5;241m=\u001b[39m \u001b[38;5;28;01mNone\u001b[39;00m\n\u001b[0;32m-> 1407\u001b[0m \u001b[38;5;28mself\u001b[39m\u001b[38;5;241m.\u001b[39m_engine \u001b[38;5;241m=\u001b[39m \u001b[38;5;28;43mself\u001b[39;49m\u001b[38;5;241;43m.\u001b[39;49m\u001b[43m_make_engine\u001b[49m\u001b[43m(\u001b[49m\u001b[43mf\u001b[49m\u001b[43m,\u001b[49m\u001b[43m \u001b[49m\u001b[38;5;28;43mself\u001b[39;49m\u001b[38;5;241;43m.\u001b[39;49m\u001b[43mengine\u001b[49m\u001b[43m)\u001b[49m\n",
      "File \u001b[0;32m~/.local/lib/python3.8/site-packages/pandas/io/parsers/readers.py:1661\u001b[0m, in \u001b[0;36mTextFileReader._make_engine\u001b[0;34m(self, f, engine)\u001b[0m\n\u001b[1;32m   1659\u001b[0m     \u001b[38;5;28;01mif\u001b[39;00m \u001b[38;5;124m\"\u001b[39m\u001b[38;5;124mb\u001b[39m\u001b[38;5;124m\"\u001b[39m \u001b[38;5;129;01mnot\u001b[39;00m \u001b[38;5;129;01min\u001b[39;00m mode:\n\u001b[1;32m   1660\u001b[0m         mode \u001b[38;5;241m+\u001b[39m\u001b[38;5;241m=\u001b[39m \u001b[38;5;124m\"\u001b[39m\u001b[38;5;124mb\u001b[39m\u001b[38;5;124m\"\u001b[39m\n\u001b[0;32m-> 1661\u001b[0m \u001b[38;5;28mself\u001b[39m\u001b[38;5;241m.\u001b[39mhandles \u001b[38;5;241m=\u001b[39m \u001b[43mget_handle\u001b[49m\u001b[43m(\u001b[49m\n\u001b[1;32m   1662\u001b[0m \u001b[43m    \u001b[49m\u001b[43mf\u001b[49m\u001b[43m,\u001b[49m\n\u001b[1;32m   1663\u001b[0m \u001b[43m    \u001b[49m\u001b[43mmode\u001b[49m\u001b[43m,\u001b[49m\n\u001b[1;32m   1664\u001b[0m \u001b[43m    \u001b[49m\u001b[43mencoding\u001b[49m\u001b[38;5;241;43m=\u001b[39;49m\u001b[38;5;28;43mself\u001b[39;49m\u001b[38;5;241;43m.\u001b[39;49m\u001b[43moptions\u001b[49m\u001b[38;5;241;43m.\u001b[39;49m\u001b[43mget\u001b[49m\u001b[43m(\u001b[49m\u001b[38;5;124;43m\"\u001b[39;49m\u001b[38;5;124;43mencoding\u001b[39;49m\u001b[38;5;124;43m\"\u001b[39;49m\u001b[43m,\u001b[49m\u001b[43m \u001b[49m\u001b[38;5;28;43;01mNone\u001b[39;49;00m\u001b[43m)\u001b[49m\u001b[43m,\u001b[49m\n\u001b[1;32m   1665\u001b[0m \u001b[43m    \u001b[49m\u001b[43mcompression\u001b[49m\u001b[38;5;241;43m=\u001b[39;49m\u001b[38;5;28;43mself\u001b[39;49m\u001b[38;5;241;43m.\u001b[39;49m\u001b[43moptions\u001b[49m\u001b[38;5;241;43m.\u001b[39;49m\u001b[43mget\u001b[49m\u001b[43m(\u001b[49m\u001b[38;5;124;43m\"\u001b[39;49m\u001b[38;5;124;43mcompression\u001b[39;49m\u001b[38;5;124;43m\"\u001b[39;49m\u001b[43m,\u001b[49m\u001b[43m \u001b[49m\u001b[38;5;28;43;01mNone\u001b[39;49;00m\u001b[43m)\u001b[49m\u001b[43m,\u001b[49m\n\u001b[1;32m   1666\u001b[0m \u001b[43m    \u001b[49m\u001b[43mmemory_map\u001b[49m\u001b[38;5;241;43m=\u001b[39;49m\u001b[38;5;28;43mself\u001b[39;49m\u001b[38;5;241;43m.\u001b[39;49m\u001b[43moptions\u001b[49m\u001b[38;5;241;43m.\u001b[39;49m\u001b[43mget\u001b[49m\u001b[43m(\u001b[49m\u001b[38;5;124;43m\"\u001b[39;49m\u001b[38;5;124;43mmemory_map\u001b[39;49m\u001b[38;5;124;43m\"\u001b[39;49m\u001b[43m,\u001b[49m\u001b[43m \u001b[49m\u001b[38;5;28;43;01mFalse\u001b[39;49;00m\u001b[43m)\u001b[49m\u001b[43m,\u001b[49m\n\u001b[1;32m   1667\u001b[0m \u001b[43m    \u001b[49m\u001b[43mis_text\u001b[49m\u001b[38;5;241;43m=\u001b[39;49m\u001b[43mis_text\u001b[49m\u001b[43m,\u001b[49m\n\u001b[1;32m   1668\u001b[0m \u001b[43m    \u001b[49m\u001b[43merrors\u001b[49m\u001b[38;5;241;43m=\u001b[39;49m\u001b[38;5;28;43mself\u001b[39;49m\u001b[38;5;241;43m.\u001b[39;49m\u001b[43moptions\u001b[49m\u001b[38;5;241;43m.\u001b[39;49m\u001b[43mget\u001b[49m\u001b[43m(\u001b[49m\u001b[38;5;124;43m\"\u001b[39;49m\u001b[38;5;124;43mencoding_errors\u001b[39;49m\u001b[38;5;124;43m\"\u001b[39;49m\u001b[43m,\u001b[49m\u001b[43m \u001b[49m\u001b[38;5;124;43m\"\u001b[39;49m\u001b[38;5;124;43mstrict\u001b[39;49m\u001b[38;5;124;43m\"\u001b[39;49m\u001b[43m)\u001b[49m\u001b[43m,\u001b[49m\n\u001b[1;32m   1669\u001b[0m \u001b[43m    \u001b[49m\u001b[43mstorage_options\u001b[49m\u001b[38;5;241;43m=\u001b[39;49m\u001b[38;5;28;43mself\u001b[39;49m\u001b[38;5;241;43m.\u001b[39;49m\u001b[43moptions\u001b[49m\u001b[38;5;241;43m.\u001b[39;49m\u001b[43mget\u001b[49m\u001b[43m(\u001b[49m\u001b[38;5;124;43m\"\u001b[39;49m\u001b[38;5;124;43mstorage_options\u001b[39;49m\u001b[38;5;124;43m\"\u001b[39;49m\u001b[43m,\u001b[49m\u001b[43m \u001b[49m\u001b[38;5;28;43;01mNone\u001b[39;49;00m\u001b[43m)\u001b[49m\u001b[43m,\u001b[49m\n\u001b[1;32m   1670\u001b[0m \u001b[43m\u001b[49m\u001b[43m)\u001b[49m\n\u001b[1;32m   1671\u001b[0m \u001b[38;5;28;01massert\u001b[39;00m \u001b[38;5;28mself\u001b[39m\u001b[38;5;241m.\u001b[39mhandles \u001b[38;5;129;01mis\u001b[39;00m \u001b[38;5;129;01mnot\u001b[39;00m \u001b[38;5;28;01mNone\u001b[39;00m\n\u001b[1;32m   1672\u001b[0m f \u001b[38;5;241m=\u001b[39m \u001b[38;5;28mself\u001b[39m\u001b[38;5;241m.\u001b[39mhandles\u001b[38;5;241m.\u001b[39mhandle\n",
      "File \u001b[0;32m~/.local/lib/python3.8/site-packages/pandas/io/common.py:859\u001b[0m, in \u001b[0;36mget_handle\u001b[0;34m(path_or_buf, mode, encoding, compression, memory_map, is_text, errors, storage_options)\u001b[0m\n\u001b[1;32m    854\u001b[0m \u001b[38;5;28;01melif\u001b[39;00m \u001b[38;5;28misinstance\u001b[39m(handle, \u001b[38;5;28mstr\u001b[39m):\n\u001b[1;32m    855\u001b[0m     \u001b[38;5;66;03m# Check whether the filename is to be opened in binary mode.\u001b[39;00m\n\u001b[1;32m    856\u001b[0m     \u001b[38;5;66;03m# Binary mode does not support 'encoding' and 'newline'.\u001b[39;00m\n\u001b[1;32m    857\u001b[0m     \u001b[38;5;28;01mif\u001b[39;00m ioargs\u001b[38;5;241m.\u001b[39mencoding \u001b[38;5;129;01mand\u001b[39;00m \u001b[38;5;124m\"\u001b[39m\u001b[38;5;124mb\u001b[39m\u001b[38;5;124m\"\u001b[39m \u001b[38;5;129;01mnot\u001b[39;00m \u001b[38;5;129;01min\u001b[39;00m ioargs\u001b[38;5;241m.\u001b[39mmode:\n\u001b[1;32m    858\u001b[0m         \u001b[38;5;66;03m# Encoding\u001b[39;00m\n\u001b[0;32m--> 859\u001b[0m         handle \u001b[38;5;241m=\u001b[39m \u001b[38;5;28;43mopen\u001b[39;49m\u001b[43m(\u001b[49m\n\u001b[1;32m    860\u001b[0m \u001b[43m            \u001b[49m\u001b[43mhandle\u001b[49m\u001b[43m,\u001b[49m\n\u001b[1;32m    861\u001b[0m \u001b[43m            \u001b[49m\u001b[43mioargs\u001b[49m\u001b[38;5;241;43m.\u001b[39;49m\u001b[43mmode\u001b[49m\u001b[43m,\u001b[49m\n\u001b[1;32m    862\u001b[0m \u001b[43m            \u001b[49m\u001b[43mencoding\u001b[49m\u001b[38;5;241;43m=\u001b[39;49m\u001b[43mioargs\u001b[49m\u001b[38;5;241;43m.\u001b[39;49m\u001b[43mencoding\u001b[49m\u001b[43m,\u001b[49m\n\u001b[1;32m    863\u001b[0m \u001b[43m            \u001b[49m\u001b[43merrors\u001b[49m\u001b[38;5;241;43m=\u001b[39;49m\u001b[43merrors\u001b[49m\u001b[43m,\u001b[49m\n\u001b[1;32m    864\u001b[0m \u001b[43m            \u001b[49m\u001b[43mnewline\u001b[49m\u001b[38;5;241;43m=\u001b[39;49m\u001b[38;5;124;43m\"\u001b[39;49m\u001b[38;5;124;43m\"\u001b[39;49m\u001b[43m,\u001b[49m\n\u001b[1;32m    865\u001b[0m \u001b[43m        \u001b[49m\u001b[43m)\u001b[49m\n\u001b[1;32m    866\u001b[0m     \u001b[38;5;28;01melse\u001b[39;00m:\n\u001b[1;32m    867\u001b[0m         \u001b[38;5;66;03m# Binary mode\u001b[39;00m\n\u001b[1;32m    868\u001b[0m         handle \u001b[38;5;241m=\u001b[39m \u001b[38;5;28mopen\u001b[39m(handle, ioargs\u001b[38;5;241m.\u001b[39mmode)\n",
      "\u001b[0;31mFileNotFoundError\u001b[0m: [Errno 2] No such file or directory: 'Car_Prices_Poland_Kaggle.csv/Car_Prices_Poland_Kaggle.csv'"
     ]
    }
   ],
   "source": [
    "import numpy as np # linear algebra\n",
    "import pandas as pd\n",
    "import joblib\n",
    "df = pd.read_csv('Car_Prices_Poland_Kaggle.csv/Car_Prices_Poland_Kaggle.csv')\n",
    "df.head()"
   ]
  },
  {
   "cell_type": "code",
   "execution_count": null,
   "id": "ec4de451",
   "metadata": {
    "execution": {
     "iopub.execute_input": "2023-12-12T22:19:08.134262Z",
     "iopub.status.busy": "2023-12-12T22:19:08.133817Z",
     "iopub.status.idle": "2023-12-12T22:19:08.177653Z",
     "shell.execute_reply": "2023-12-12T22:19:08.176696Z"
    },
    "papermill": {
     "duration": 0.05982,
     "end_time": "2023-12-12T22:19:08.180496",
     "exception": false,
     "start_time": "2023-12-12T22:19:08.120676",
     "status": "completed"
    },
    "tags": []
   },
   "outputs": [
    {
     "data": {
      "text/html": [
       "<div>\n",
       "<style scoped>\n",
       "    .dataframe tbody tr th:only-of-type {\n",
       "        vertical-align: middle;\n",
       "    }\n",
       "\n",
       "    .dataframe tbody tr th {\n",
       "        vertical-align: top;\n",
       "    }\n",
       "\n",
       "    .dataframe thead th {\n",
       "        text-align: right;\n",
       "    }\n",
       "</style>\n",
       "<table border=\"1\" class=\"dataframe\">\n",
       "  <thead>\n",
       "    <tr style=\"text-align: right;\">\n",
       "      <th></th>\n",
       "      <th>mark</th>\n",
       "      <th>model</th>\n",
       "      <th>year</th>\n",
       "      <th>mileage</th>\n",
       "      <th>vol_engine</th>\n",
       "      <th>fuel</th>\n",
       "      <th>price</th>\n",
       "    </tr>\n",
       "  </thead>\n",
       "  <tbody>\n",
       "    <tr>\n",
       "      <th>0</th>\n",
       "      <td>opel</td>\n",
       "      <td>combo</td>\n",
       "      <td>2015</td>\n",
       "      <td>139568</td>\n",
       "      <td>1248</td>\n",
       "      <td>Diesel</td>\n",
       "      <td>35900</td>\n",
       "    </tr>\n",
       "    <tr>\n",
       "      <th>1</th>\n",
       "      <td>opel</td>\n",
       "      <td>combo</td>\n",
       "      <td>2018</td>\n",
       "      <td>31991</td>\n",
       "      <td>1499</td>\n",
       "      <td>Diesel</td>\n",
       "      <td>78501</td>\n",
       "    </tr>\n",
       "    <tr>\n",
       "      <th>2</th>\n",
       "      <td>opel</td>\n",
       "      <td>combo</td>\n",
       "      <td>2015</td>\n",
       "      <td>278437</td>\n",
       "      <td>1598</td>\n",
       "      <td>Diesel</td>\n",
       "      <td>27000</td>\n",
       "    </tr>\n",
       "    <tr>\n",
       "      <th>3</th>\n",
       "      <td>opel</td>\n",
       "      <td>combo</td>\n",
       "      <td>2016</td>\n",
       "      <td>47600</td>\n",
       "      <td>1248</td>\n",
       "      <td>Diesel</td>\n",
       "      <td>30800</td>\n",
       "    </tr>\n",
       "    <tr>\n",
       "      <th>4</th>\n",
       "      <td>opel</td>\n",
       "      <td>combo</td>\n",
       "      <td>2014</td>\n",
       "      <td>103000</td>\n",
       "      <td>1400</td>\n",
       "      <td>CNG</td>\n",
       "      <td>35900</td>\n",
       "    </tr>\n",
       "    <tr>\n",
       "      <th>...</th>\n",
       "      <td>...</td>\n",
       "      <td>...</td>\n",
       "      <td>...</td>\n",
       "      <td>...</td>\n",
       "      <td>...</td>\n",
       "      <td>...</td>\n",
       "      <td>...</td>\n",
       "    </tr>\n",
       "    <tr>\n",
       "      <th>117922</th>\n",
       "      <td>volvo</td>\n",
       "      <td>xc-90</td>\n",
       "      <td>2020</td>\n",
       "      <td>40000</td>\n",
       "      <td>1969</td>\n",
       "      <td>Hybrid</td>\n",
       "      <td>222790</td>\n",
       "    </tr>\n",
       "    <tr>\n",
       "      <th>117923</th>\n",
       "      <td>volvo</td>\n",
       "      <td>xc-90</td>\n",
       "      <td>2017</td>\n",
       "      <td>51000</td>\n",
       "      <td>1969</td>\n",
       "      <td>Diesel</td>\n",
       "      <td>229900</td>\n",
       "    </tr>\n",
       "    <tr>\n",
       "      <th>117924</th>\n",
       "      <td>volvo</td>\n",
       "      <td>xc-90</td>\n",
       "      <td>2016</td>\n",
       "      <td>83500</td>\n",
       "      <td>1969</td>\n",
       "      <td>Gasoline</td>\n",
       "      <td>135000</td>\n",
       "    </tr>\n",
       "    <tr>\n",
       "      <th>117925</th>\n",
       "      <td>volvo</td>\n",
       "      <td>xc-90</td>\n",
       "      <td>2017</td>\n",
       "      <td>174000</td>\n",
       "      <td>1969</td>\n",
       "      <td>Diesel</td>\n",
       "      <td>154500</td>\n",
       "    </tr>\n",
       "    <tr>\n",
       "      <th>117926</th>\n",
       "      <td>volvo</td>\n",
       "      <td>xc-90</td>\n",
       "      <td>2016</td>\n",
       "      <td>189020</td>\n",
       "      <td>1969</td>\n",
       "      <td>Gasoline</td>\n",
       "      <td>130000</td>\n",
       "    </tr>\n",
       "  </tbody>\n",
       "</table>\n",
       "<p>117927 rows × 7 columns</p>\n",
       "</div>"
      ],
      "text/plain": [
       "         mark  model  year  mileage  vol_engine      fuel   price\n",
       "0        opel  combo  2015   139568        1248    Diesel   35900\n",
       "1        opel  combo  2018    31991        1499    Diesel   78501\n",
       "2        opel  combo  2015   278437        1598    Diesel   27000\n",
       "3        opel  combo  2016    47600        1248    Diesel   30800\n",
       "4        opel  combo  2014   103000        1400       CNG   35900\n",
       "...       ...    ...   ...      ...         ...       ...     ...\n",
       "117922  volvo  xc-90  2020    40000        1969    Hybrid  222790\n",
       "117923  volvo  xc-90  2017    51000        1969    Diesel  229900\n",
       "117924  volvo  xc-90  2016    83500        1969  Gasoline  135000\n",
       "117925  volvo  xc-90  2017   174000        1969    Diesel  154500\n",
       "117926  volvo  xc-90  2016   189020        1969  Gasoline  130000\n",
       "\n",
       "[117927 rows x 7 columns]"
      ]
     },
     "execution_count": 31,
     "metadata": {},
     "output_type": "execute_result"
    }
   ],
   "source": [
    "df1= df.drop('Unnamed: 0' , axis=1)\n",
    "df1=df1.drop(['generation_name', 'province', 'city'],axis=1)\n",
    "df1"
   ]
  },
  {
   "cell_type": "code",
   "execution_count": null,
   "id": "5ef9f575",
   "metadata": {
    "execution": {
     "iopub.execute_input": "2023-12-12T22:19:08.205730Z",
     "iopub.status.busy": "2023-12-12T22:19:08.205163Z",
     "iopub.status.idle": "2023-12-12T22:19:08.214886Z",
     "shell.execute_reply": "2023-12-12T22:19:08.213492Z"
    },
    "papermill": {
     "duration": 0.026318,
     "end_time": "2023-12-12T22:19:08.217708",
     "exception": false,
     "start_time": "2023-12-12T22:19:08.191390",
     "status": "completed"
    },
    "tags": []
   },
   "outputs": [
    {
     "data": {
      "text/plain": [
       "(117927, 7)"
      ]
     },
     "execution_count": 32,
     "metadata": {},
     "output_type": "execute_result"
    }
   ],
   "source": [
    "df1.shape"
   ]
  },
  {
   "cell_type": "code",
   "execution_count": null,
   "id": "c2ff740a",
   "metadata": {
    "execution": {
     "iopub.execute_input": "2023-12-12T22:19:08.243320Z",
     "iopub.status.busy": "2023-12-12T22:19:08.242873Z",
     "iopub.status.idle": "2023-12-12T22:19:08.328985Z",
     "shell.execute_reply": "2023-12-12T22:19:08.327831Z"
    },
    "papermill": {
     "duration": 0.102567,
     "end_time": "2023-12-12T22:19:08.331851",
     "exception": false,
     "start_time": "2023-12-12T22:19:08.229284",
     "status": "completed"
    },
    "tags": []
   },
   "outputs": [
    {
     "data": {
      "text/plain": [
       "mark          0\n",
       "model         0\n",
       "year          0\n",
       "mileage       0\n",
       "vol_engine    0\n",
       "fuel          0\n",
       "price         0\n",
       "dtype: int64"
      ]
     },
     "execution_count": 33,
     "metadata": {},
     "output_type": "execute_result"
    }
   ],
   "source": [
    "# get the number of missing data points per column\n",
    "missing_values = df1.isnull().sum()\n",
    "# look at the # of missing points\n",
    "missing_values"
   ]
  },
  {
   "cell_type": "code",
   "execution_count": null,
   "id": "3a18cf74",
   "metadata": {
    "execution": {
     "iopub.execute_input": "2023-12-12T22:19:08.357153Z",
     "iopub.status.busy": "2023-12-12T22:19:08.356652Z",
     "iopub.status.idle": "2023-12-12T22:19:08.508241Z",
     "shell.execute_reply": "2023-12-12T22:19:08.506876Z"
    },
    "papermill": {
     "duration": 0.168816,
     "end_time": "2023-12-12T22:19:08.512048",
     "exception": false,
     "start_time": "2023-12-12T22:19:08.343232",
     "status": "completed"
    },
    "tags": []
   },
   "outputs": [],
   "source": [
    "# # Handling missing values in 'generation_name'\n",
    "# df1['generation_name'].fillna('Unknown', inplace=True)\n",
    "\n",
    "# # Removing duplicates\n",
    "df1.drop_duplicates(inplace=True)"
   ]
  },
  {
   "cell_type": "code",
   "execution_count": null,
   "id": "de5985ea",
   "metadata": {
    "execution": {
     "iopub.execute_input": "2023-12-12T22:19:08.538498Z",
     "iopub.status.busy": "2023-12-12T22:19:08.537428Z",
     "iopub.status.idle": "2023-12-12T22:19:08.618656Z",
     "shell.execute_reply": "2023-12-12T22:19:08.617299Z"
    },
    "papermill": {
     "duration": 0.09786,
     "end_time": "2023-12-12T22:19:08.621592",
     "exception": false,
     "start_time": "2023-12-12T22:19:08.523732",
     "status": "completed"
    },
    "tags": []
   },
   "outputs": [
    {
     "data": {
      "text/plain": [
       "mark          0\n",
       "model         0\n",
       "year          0\n",
       "mileage       0\n",
       "vol_engine    0\n",
       "fuel          0\n",
       "price         0\n",
       "dtype: int64"
      ]
     },
     "execution_count": 35,
     "metadata": {},
     "output_type": "execute_result"
    }
   ],
   "source": [
    "df1.isnull().sum()"
   ]
  },
  {
   "cell_type": "code",
   "execution_count": null,
   "id": "bd467fd9",
   "metadata": {
    "execution": {
     "iopub.execute_input": "2023-12-12T22:19:08.647489Z",
     "iopub.status.busy": "2023-12-12T22:19:08.647015Z",
     "iopub.status.idle": "2023-12-12T22:19:08.655486Z",
     "shell.execute_reply": "2023-12-12T22:19:08.654268Z"
    },
    "papermill": {
     "duration": 0.025232,
     "end_time": "2023-12-12T22:19:08.658589",
     "exception": false,
     "start_time": "2023-12-12T22:19:08.633357",
     "status": "completed"
    },
    "tags": []
   },
   "outputs": [
    {
     "data": {
      "text/plain": [
       "(110023, 7)"
      ]
     },
     "execution_count": 36,
     "metadata": {},
     "output_type": "execute_result"
    }
   ],
   "source": [
    "df1.shape"
   ]
  },
  {
   "cell_type": "code",
   "execution_count": null,
   "id": "915a3400",
   "metadata": {
    "execution": {
     "iopub.execute_input": "2023-12-12T22:19:08.684491Z",
     "iopub.status.busy": "2023-12-12T22:19:08.683542Z",
     "iopub.status.idle": "2023-12-12T22:19:08.705755Z",
     "shell.execute_reply": "2023-12-12T22:19:08.704350Z"
    },
    "papermill": {
     "duration": 0.038181,
     "end_time": "2023-12-12T22:19:08.708775",
     "exception": false,
     "start_time": "2023-12-12T22:19:08.670594",
     "status": "completed"
    },
    "tags": []
   },
   "outputs": [
    {
     "data": {
      "text/html": [
       "<div>\n",
       "<style scoped>\n",
       "    .dataframe tbody tr th:only-of-type {\n",
       "        vertical-align: middle;\n",
       "    }\n",
       "\n",
       "    .dataframe tbody tr th {\n",
       "        vertical-align: top;\n",
       "    }\n",
       "\n",
       "    .dataframe thead th {\n",
       "        text-align: right;\n",
       "    }\n",
       "</style>\n",
       "<table border=\"1\" class=\"dataframe\">\n",
       "  <thead>\n",
       "    <tr style=\"text-align: right;\">\n",
       "      <th></th>\n",
       "      <th>mark</th>\n",
       "      <th>model</th>\n",
       "      <th>year</th>\n",
       "      <th>mileage</th>\n",
       "      <th>vol_engine</th>\n",
       "      <th>fuel</th>\n",
       "      <th>price</th>\n",
       "    </tr>\n",
       "  </thead>\n",
       "  <tbody>\n",
       "    <tr>\n",
       "      <th>0</th>\n",
       "      <td>opel</td>\n",
       "      <td>combo</td>\n",
       "      <td>2015</td>\n",
       "      <td>139568</td>\n",
       "      <td>1248</td>\n",
       "      <td>Diesel</td>\n",
       "      <td>35900</td>\n",
       "    </tr>\n",
       "    <tr>\n",
       "      <th>1</th>\n",
       "      <td>opel</td>\n",
       "      <td>combo</td>\n",
       "      <td>2018</td>\n",
       "      <td>31991</td>\n",
       "      <td>1499</td>\n",
       "      <td>Diesel</td>\n",
       "      <td>78501</td>\n",
       "    </tr>\n",
       "    <tr>\n",
       "      <th>2</th>\n",
       "      <td>opel</td>\n",
       "      <td>combo</td>\n",
       "      <td>2015</td>\n",
       "      <td>278437</td>\n",
       "      <td>1598</td>\n",
       "      <td>Diesel</td>\n",
       "      <td>27000</td>\n",
       "    </tr>\n",
       "    <tr>\n",
       "      <th>3</th>\n",
       "      <td>opel</td>\n",
       "      <td>combo</td>\n",
       "      <td>2016</td>\n",
       "      <td>47600</td>\n",
       "      <td>1248</td>\n",
       "      <td>Diesel</td>\n",
       "      <td>30800</td>\n",
       "    </tr>\n",
       "    <tr>\n",
       "      <th>4</th>\n",
       "      <td>opel</td>\n",
       "      <td>combo</td>\n",
       "      <td>2014</td>\n",
       "      <td>103000</td>\n",
       "      <td>1400</td>\n",
       "      <td>CNG</td>\n",
       "      <td>35900</td>\n",
       "    </tr>\n",
       "    <tr>\n",
       "      <th>...</th>\n",
       "      <td>...</td>\n",
       "      <td>...</td>\n",
       "      <td>...</td>\n",
       "      <td>...</td>\n",
       "      <td>...</td>\n",
       "      <td>...</td>\n",
       "      <td>...</td>\n",
       "    </tr>\n",
       "    <tr>\n",
       "      <th>110018</th>\n",
       "      <td>volvo</td>\n",
       "      <td>xc-90</td>\n",
       "      <td>2017</td>\n",
       "      <td>51000</td>\n",
       "      <td>1969</td>\n",
       "      <td>Diesel</td>\n",
       "      <td>229900</td>\n",
       "    </tr>\n",
       "    <tr>\n",
       "      <th>110019</th>\n",
       "      <td>volvo</td>\n",
       "      <td>xc-90</td>\n",
       "      <td>2016</td>\n",
       "      <td>83500</td>\n",
       "      <td>1969</td>\n",
       "      <td>Gasoline</td>\n",
       "      <td>135000</td>\n",
       "    </tr>\n",
       "    <tr>\n",
       "      <th>110020</th>\n",
       "      <td>volvo</td>\n",
       "      <td>xc-90</td>\n",
       "      <td>2017</td>\n",
       "      <td>174000</td>\n",
       "      <td>1969</td>\n",
       "      <td>Diesel</td>\n",
       "      <td>154500</td>\n",
       "    </tr>\n",
       "    <tr>\n",
       "      <th>110021</th>\n",
       "      <td>volvo</td>\n",
       "      <td>xc-90</td>\n",
       "      <td>2016</td>\n",
       "      <td>189020</td>\n",
       "      <td>1969</td>\n",
       "      <td>Gasoline</td>\n",
       "      <td>130000</td>\n",
       "    </tr>\n",
       "    <tr>\n",
       "      <th>110022</th>\n",
       "      <td>volvo</td>\n",
       "      <td>xc-90</td>\n",
       "      <td>2016</td>\n",
       "      <td>95000</td>\n",
       "      <td>1969</td>\n",
       "      <td>Gasoline</td>\n",
       "      <td>126000</td>\n",
       "    </tr>\n",
       "  </tbody>\n",
       "</table>\n",
       "<p>110023 rows × 7 columns</p>\n",
       "</div>"
      ],
      "text/plain": [
       "         mark  model  year  mileage  vol_engine      fuel   price\n",
       "0        opel  combo  2015   139568        1248    Diesel   35900\n",
       "1        opel  combo  2018    31991        1499    Diesel   78501\n",
       "2        opel  combo  2015   278437        1598    Diesel   27000\n",
       "3        opel  combo  2016    47600        1248    Diesel   30800\n",
       "4        opel  combo  2014   103000        1400       CNG   35900\n",
       "...       ...    ...   ...      ...         ...       ...     ...\n",
       "110018  volvo  xc-90  2017    51000        1969    Diesel  229900\n",
       "110019  volvo  xc-90  2016    83500        1969  Gasoline  135000\n",
       "110020  volvo  xc-90  2017   174000        1969    Diesel  154500\n",
       "110021  volvo  xc-90  2016   189020        1969  Gasoline  130000\n",
       "110022  volvo  xc-90  2016    95000        1969  Gasoline  126000\n",
       "\n",
       "[110023 rows x 7 columns]"
      ]
     },
     "execution_count": 37,
     "metadata": {},
     "output_type": "execute_result"
    }
   ],
   "source": [
    "# Resetting index\n",
    "df1.reset_index(drop=True, inplace=True)\n",
    "df1"
   ]
  },
  {
   "cell_type": "code",
   "execution_count": null,
   "id": "09d1b265",
   "metadata": {
    "execution": {
     "iopub.execute_input": "2023-12-12T22:19:08.736292Z",
     "iopub.status.busy": "2023-12-12T22:19:08.735835Z",
     "iopub.status.idle": "2023-12-12T22:19:08.746421Z",
     "shell.execute_reply": "2023-12-12T22:19:08.745315Z"
    },
    "papermill": {
     "duration": 0.028173,
     "end_time": "2023-12-12T22:19:08.749450",
     "exception": false,
     "start_time": "2023-12-12T22:19:08.721277",
     "status": "completed"
    },
    "tags": []
   },
   "outputs": [],
   "source": [
    "# Converting data types\n",
    "df1['year'] = df1['year'].astype(int)\n",
    "df1['mileage'] = df1['mileage'].astype(int)\n",
    "df1['vol_engine'] = df1['vol_engine'].astype(int)\n",
    "df1['price'] = df1['price'].astype(float)\n"
   ]
  },
  {
   "cell_type": "code",
   "execution_count": null,
   "id": "f0fe0857",
   "metadata": {
    "execution": {
     "iopub.execute_input": "2023-12-12T22:19:08.777588Z",
     "iopub.status.busy": "2023-12-12T22:19:08.777009Z",
     "iopub.status.idle": "2023-12-12T22:19:08.787692Z",
     "shell.execute_reply": "2023-12-12T22:19:08.786460Z"
    },
    "papermill": {
     "duration": 0.028683,
     "end_time": "2023-12-12T22:19:08.790552",
     "exception": false,
     "start_time": "2023-12-12T22:19:08.761869",
     "status": "completed"
    },
    "tags": []
   },
   "outputs": [
    {
     "data": {
      "text/plain": [
       "0         2015\n",
       "1         2018\n",
       "2         2015\n",
       "3         2016\n",
       "4         2014\n",
       "          ... \n",
       "110018    2017\n",
       "110019    2016\n",
       "110020    2017\n",
       "110021    2016\n",
       "110022    2016\n",
       "Name: year, Length: 110023, dtype: int32"
      ]
     },
     "execution_count": 39,
     "metadata": {},
     "output_type": "execute_result"
    }
   ],
   "source": [
    "df1['year']"
   ]
  },
  {
   "cell_type": "code",
   "execution_count": null,
   "id": "71920d6f",
   "metadata": {
    "execution": {
     "iopub.execute_input": "2023-12-12T22:19:08.819440Z",
     "iopub.status.busy": "2023-12-12T22:19:08.818976Z",
     "iopub.status.idle": "2023-12-12T22:19:08.826394Z",
     "shell.execute_reply": "2023-12-12T22:19:08.825206Z"
    },
    "papermill": {
     "duration": 0.025042,
     "end_time": "2023-12-12T22:19:08.828946",
     "exception": false,
     "start_time": "2023-12-12T22:19:08.803904",
     "status": "completed"
    },
    "tags": []
   },
   "outputs": [],
   "source": [
    "# Define a function to calculate IQR and detect outliers\n",
    "def detect_outliers(df, column):\n",
    "    Q1 = df[column].quantile(0.25)\n",
    "    Q3 = df[column].quantile(0.75)\n",
    "    IQR = Q3 - Q1\n",
    "    upper_bound = Q3 + 1.5 * IQR\n",
    "    lower_bound = Q1 - 1.5 * IQR\n",
    "    outliers = df[(df[column] > upper_bound) | (df[column] < lower_bound)]\n",
    "    return outliers"
   ]
  },
  {
   "cell_type": "code",
   "execution_count": null,
   "id": "b098b999",
   "metadata": {
    "execution": {
     "iopub.execute_input": "2023-12-12T22:19:08.856414Z",
     "iopub.status.busy": "2023-12-12T22:19:08.855368Z",
     "iopub.status.idle": "2023-12-12T22:19:08.872767Z",
     "shell.execute_reply": "2023-12-12T22:19:08.871333Z"
    },
    "papermill": {
     "duration": 0.034655,
     "end_time": "2023-12-12T22:19:08.875788",
     "exception": false,
     "start_time": "2023-12-12T22:19:08.841133",
     "status": "completed"
    },
    "tags": []
   },
   "outputs": [
    {
     "name": "stdout",
     "output_type": "stream",
     "text": [
      "Number of outliers in 'mileage': 468\n"
     ]
    }
   ],
   "source": [
    "# Detect outliers in 'mileage'\n",
    "mileage_outliers = detect_outliers(df1, 'mileage')\n",
    "print(f\"Number of outliers in 'mileage': {len(mileage_outliers)}\")"
   ]
  },
  {
   "cell_type": "code",
   "execution_count": null,
   "id": "551215d5",
   "metadata": {
    "execution": {
     "iopub.execute_input": "2023-12-12T22:19:08.904255Z",
     "iopub.status.busy": "2023-12-12T22:19:08.903805Z",
     "iopub.status.idle": "2023-12-12T22:19:08.920557Z",
     "shell.execute_reply": "2023-12-12T22:19:08.919183Z"
    },
    "papermill": {
     "duration": 0.035391,
     "end_time": "2023-12-12T22:19:08.923778",
     "exception": false,
     "start_time": "2023-12-12T22:19:08.888387",
     "status": "completed"
    },
    "tags": []
   },
   "outputs": [
    {
     "name": "stdout",
     "output_type": "stream",
     "text": [
      "Number of outliers in 'vol_engine': 9887\n"
     ]
    }
   ],
   "source": [
    "# Detect outliers in 'vol_engine'\n",
    "vol_engine_outliers = detect_outliers(df1, 'vol_engine')\n",
    "print(f\"Number of outliers in 'vol_engine': {len(vol_engine_outliers)}\")"
   ]
  },
  {
   "cell_type": "code",
   "execution_count": null,
   "id": "6a93e822",
   "metadata": {
    "execution": {
     "iopub.execute_input": "2023-12-12T22:19:08.952368Z",
     "iopub.status.busy": "2023-12-12T22:19:08.951894Z",
     "iopub.status.idle": "2023-12-12T22:19:08.994086Z",
     "shell.execute_reply": "2023-12-12T22:19:08.992607Z"
    },
    "papermill": {
     "duration": 0.060185,
     "end_time": "2023-12-12T22:19:08.997198",
     "exception": false,
     "start_time": "2023-12-12T22:19:08.937013",
     "status": "completed"
    },
    "tags": []
   },
   "outputs": [],
   "source": [
    "# Remove outliers from the dataset\n",
    "df1 = df1[~df1.index.isin(mileage_outliers.index)]\n",
    "df1 = df1[~df1.index.isin(vol_engine_outliers.index)]"
   ]
  },
  {
   "cell_type": "code",
   "execution_count": null,
   "id": "0bfce23f",
   "metadata": {
    "execution": {
     "iopub.execute_input": "2023-12-12T22:19:09.025467Z",
     "iopub.status.busy": "2023-12-12T22:19:09.024986Z",
     "iopub.status.idle": "2023-12-12T22:19:09.033698Z",
     "shell.execute_reply": "2023-12-12T22:19:09.032404Z"
    },
    "papermill": {
     "duration": 0.026927,
     "end_time": "2023-12-12T22:19:09.036869",
     "exception": false,
     "start_time": "2023-12-12T22:19:09.009942",
     "status": "completed"
    },
    "tags": []
   },
   "outputs": [
    {
     "data": {
      "text/plain": [
       "(99777, 7)"
      ]
     },
     "execution_count": 44,
     "metadata": {},
     "output_type": "execute_result"
    }
   ],
   "source": [
    "df1.shape\n",
    "\n"
   ]
  },
  {
   "cell_type": "code",
   "execution_count": null,
   "id": "212ff942",
   "metadata": {
    "execution": {
     "iopub.execute_input": "2023-12-12T22:19:09.067179Z",
     "iopub.status.busy": "2023-12-12T22:19:09.065732Z",
     "iopub.status.idle": "2023-12-12T22:19:10.510544Z",
     "shell.execute_reply": "2023-12-12T22:19:10.509197Z"
    },
    "papermill": {
     "duration": 1.46452,
     "end_time": "2023-12-12T22:19:10.514305",
     "exception": false,
     "start_time": "2023-12-12T22:19:09.049785",
     "status": "completed"
    },
    "tags": []
   },
   "outputs": [
    {
     "data": {
      "text/plain": [
       "['cars_stdscaler.joblib']"
      ]
     },
     "execution_count": 45,
     "metadata": {},
     "output_type": "execute_result"
    }
   ],
   "source": [
    "# Scaling for algorithms that is sensitive to the magnitude of variables(KNN,SVM,or neural networks)\n",
    "from sklearn.preprocessing import StandardScaler\n",
    "scaler = StandardScaler()\n",
    "df_scaled = scaler.fit_transform(df1[['mileage', 'vol_engine']])  # Apply to numerical columns\n",
    "df1[['mileage', 'vol_engine']] = df_scaled\n",
    "joblib.dump(scaler, \"cars_stdscaler.joblib\")\n",
    "\n"
   ]
  },
  {
   "cell_type": "code",
   "execution_count": null,
   "id": "f41ed930",
   "metadata": {
    "execution": {
     "iopub.execute_input": "2023-12-12T22:19:10.543576Z",
     "iopub.status.busy": "2023-12-12T22:19:10.543066Z",
     "iopub.status.idle": "2023-12-12T22:19:10.552485Z",
     "shell.execute_reply": "2023-12-12T22:19:10.551273Z"
    },
    "papermill": {
     "duration": 0.027203,
     "end_time": "2023-12-12T22:19:10.555338",
     "exception": false,
     "start_time": "2023-12-12T22:19:10.528135",
     "status": "completed"
    },
    "tags": []
   },
   "outputs": [
    {
     "data": {
      "text/plain": [
       "array([[-0.02158922, -1.27756604],\n",
       "       [-1.27058024, -0.54681627],\n",
       "       [ 1.59070833, -0.25859226],\n",
       "       ...,\n",
       "       [ 0.37817335,  0.82151994],\n",
       "       [ 0.55255863,  0.82151994],\n",
       "       [-0.53903284,  0.82151994]])"
      ]
     },
     "execution_count": 46,
     "metadata": {},
     "output_type": "execute_result"
    }
   ],
   "source": [
    "df_scaled"
   ]
  },
  {
   "cell_type": "code",
   "execution_count": null,
   "id": "0bfc81fc",
   "metadata": {
    "execution": {
     "iopub.execute_input": "2023-12-12T22:19:10.585495Z",
     "iopub.status.busy": "2023-12-12T22:19:10.584951Z",
     "iopub.status.idle": "2023-12-12T22:19:10.602825Z",
     "shell.execute_reply": "2023-12-12T22:19:10.601334Z"
    },
    "papermill": {
     "duration": 0.036561,
     "end_time": "2023-12-12T22:19:10.606186",
     "exception": false,
     "start_time": "2023-12-12T22:19:10.569625",
     "status": "completed"
    },
    "tags": []
   },
   "outputs": [
    {
     "data": {
      "text/plain": [
       "['cars_minmaxscaler.joblib']"
      ]
     },
     "execution_count": 47,
     "metadata": {},
     "output_type": "execute_result"
    }
   ],
   "source": [
    "# Normalization algorithms that are sensitive to the distribution of values and require uniformity like gradient descent\n",
    "from sklearn.preprocessing import  MinMaxScaler\n",
    "normalizer = MinMaxScaler()\n",
    "df_normalized = normalizer.fit_transform(df1[['mileage', 'vol_engine']])  # Apply to numerical columns\n",
    "df1[['mileage', 'vol_engine']] = df_normalized\n",
    "joblib.dump(normalizer, \"cars_minmaxscaler.joblib\")"
   ]
  },
  {
   "cell_type": "code",
   "execution_count": null,
   "id": "0f881508",
   "metadata": {
    "execution": {
     "iopub.execute_input": "2023-12-12T22:19:10.635255Z",
     "iopub.status.busy": "2023-12-12T22:19:10.634783Z",
     "iopub.status.idle": "2023-12-12T22:19:10.645346Z",
     "shell.execute_reply": "2023-12-12T22:19:10.643650Z"
    },
    "papermill": {
     "duration": 0.02927,
     "end_time": "2023-12-12T22:19:10.648309",
     "exception": false,
     "start_time": "2023-12-12T22:19:10.619039",
     "status": "completed"
    },
    "tags": []
   },
   "outputs": [
    {
     "data": {
      "text/plain": [
       "array([[0.34675117, 0.2045221 ],\n",
       "       [0.07947846, 0.33350462],\n",
       "       [0.69176818, 0.38437821],\n",
       "       ...,\n",
       "       [0.43229673, 0.57502569],\n",
       "       [0.46961359, 0.57502569],\n",
       "       [0.23602295, 0.57502569]])"
      ]
     },
     "execution_count": 48,
     "metadata": {},
     "output_type": "execute_result"
    }
   ],
   "source": [
    "df_normalized"
   ]
  },
  {
   "cell_type": "code",
   "execution_count": null,
   "id": "c5a2bf7d",
   "metadata": {
    "execution": {
     "iopub.execute_input": "2023-12-12T22:19:10.678022Z",
     "iopub.status.busy": "2023-12-12T22:19:10.677549Z",
     "iopub.status.idle": "2023-12-12T22:19:11.098655Z",
     "shell.execute_reply": "2023-12-12T22:19:11.096769Z"
    },
    "papermill": {
     "duration": 0.442076,
     "end_time": "2023-12-12T22:19:11.104080",
     "exception": false,
     "start_time": "2023-12-12T22:19:10.662004",
     "status": "completed"
    },
    "tags": []
   },
   "outputs": [],
   "source": [
    "# Apply PCA\n",
    "from sklearn.decomposition import PCA\n",
    "pca = PCA(n_components=0.95)  # Retain 95% of the variance\n",
    "df_reduced = pca.fit_transform(df_scaled)"
   ]
  },
  {
   "cell_type": "code",
   "execution_count": null,
   "id": "0786a217",
   "metadata": {
    "execution": {
     "iopub.execute_input": "2023-12-12T22:19:11.173823Z",
     "iopub.status.busy": "2023-12-12T22:19:11.172978Z",
     "iopub.status.idle": "2023-12-12T22:19:11.185801Z",
     "shell.execute_reply": "2023-12-12T22:19:11.184162Z"
    },
    "papermill": {
     "duration": 0.051575,
     "end_time": "2023-12-12T22:19:11.192568",
     "exception": false,
     "start_time": "2023-12-12T22:19:11.140993",
     "status": "completed"
    },
    "tags": []
   },
   "outputs": [
    {
     "data": {
      "text/plain": [
       "array([[-0.9186415 , -0.88810972],\n",
       "       [-1.2850934 ,  0.51177841],\n",
       "       [ 0.9419483 , -1.30765299],\n",
       "       ...,\n",
       "       [ 0.84831126,  0.31349338],\n",
       "       [ 0.97162028,  0.19018437],\n",
       "       [ 0.19974855,  0.9620561 ]])"
      ]
     },
     "execution_count": 50,
     "metadata": {},
     "output_type": "execute_result"
    }
   ],
   "source": [
    "df_reduced"
   ]
  },
  {
   "cell_type": "code",
   "execution_count": null,
   "id": "13aa6825",
   "metadata": {
    "execution": {
     "iopub.execute_input": "2023-12-12T22:19:11.235019Z",
     "iopub.status.busy": "2023-12-12T22:19:11.234526Z",
     "iopub.status.idle": "2023-12-12T22:19:11.241303Z",
     "shell.execute_reply": "2023-12-12T22:19:11.240380Z"
    },
    "papermill": {
     "duration": 0.025745,
     "end_time": "2023-12-12T22:19:11.243477",
     "exception": false,
     "start_time": "2023-12-12T22:19:11.217732",
     "status": "completed"
    },
    "tags": []
   },
   "outputs": [
    {
     "data": {
      "text/plain": [
       "(99777, 2)"
      ]
     },
     "execution_count": 51,
     "metadata": {},
     "output_type": "execute_result"
    }
   ],
   "source": [
    "df_reduced.shape"
   ]
  },
  {
   "cell_type": "code",
   "execution_count": null,
   "id": "c4a5ce9b",
   "metadata": {
    "execution": {
     "iopub.execute_input": "2023-12-12T22:19:11.273206Z",
     "iopub.status.busy": "2023-12-12T22:19:11.272707Z",
     "iopub.status.idle": "2023-12-12T22:19:11.386141Z",
     "shell.execute_reply": "2023-12-12T22:19:11.384745Z"
    },
    "papermill": {
     "duration": 0.132039,
     "end_time": "2023-12-12T22:19:11.389298",
     "exception": false,
     "start_time": "2023-12-12T22:19:11.257259",
     "status": "completed"
    },
    "tags": []
   },
   "outputs": [
    {
     "data": {
      "text/plain": [
       "['cars_label_encoder.joblib']"
      ]
     },
     "execution_count": 52,
     "metadata": {},
     "output_type": "execute_result"
    }
   ],
   "source": [
    "# Encoding categorical variables using Label Encoding for high cardinality features\n",
    "from sklearn.preprocessing import LabelEncoder\n",
    "\n",
    "label_encoder = LabelEncoder()\n",
    "high_cardinality_features = ['mark', 'model']\n",
    "for feature in high_cardinality_features:\n",
    "    df1[feature] = label_encoder.fit_transform(df1[feature])\n",
    "    \n",
    "joblib.dump(label_encoder, \"cars_label_encoder.joblib\")    "
   ]
  },
  {
   "cell_type": "code",
   "execution_count": null,
   "id": "b9ef9866",
   "metadata": {
    "execution": {
     "iopub.execute_input": "2023-12-12T22:19:11.417722Z",
     "iopub.status.busy": "2023-12-12T22:19:11.416953Z",
     "iopub.status.idle": "2023-12-12T22:19:11.442900Z",
     "shell.execute_reply": "2023-12-12T22:19:11.441159Z"
    },
    "papermill": {
     "duration": 0.043274,
     "end_time": "2023-12-12T22:19:11.445717",
     "exception": false,
     "start_time": "2023-12-12T22:19:11.402443",
     "status": "completed"
    },
    "tags": []
   },
   "outputs": [
    {
     "data": {
      "text/html": [
       "<div>\n",
       "<style scoped>\n",
       "    .dataframe tbody tr th:only-of-type {\n",
       "        vertical-align: middle;\n",
       "    }\n",
       "\n",
       "    .dataframe tbody tr th {\n",
       "        vertical-align: top;\n",
       "    }\n",
       "\n",
       "    .dataframe thead th {\n",
       "        text-align: right;\n",
       "    }\n",
       "</style>\n",
       "<table border=\"1\" class=\"dataframe\">\n",
       "  <thead>\n",
       "    <tr style=\"text-align: right;\">\n",
       "      <th></th>\n",
       "      <th>mark</th>\n",
       "      <th>model</th>\n",
       "      <th>year</th>\n",
       "      <th>mileage</th>\n",
       "      <th>vol_engine</th>\n",
       "      <th>fuel</th>\n",
       "      <th>price</th>\n",
       "    </tr>\n",
       "  </thead>\n",
       "  <tbody>\n",
       "    <tr>\n",
       "      <th>0</th>\n",
       "      <td>15</td>\n",
       "      <td>86</td>\n",
       "      <td>2015</td>\n",
       "      <td>0.346751</td>\n",
       "      <td>0.204522</td>\n",
       "      <td>Diesel</td>\n",
       "      <td>35900.0</td>\n",
       "    </tr>\n",
       "    <tr>\n",
       "      <th>1</th>\n",
       "      <td>15</td>\n",
       "      <td>86</td>\n",
       "      <td>2018</td>\n",
       "      <td>0.079478</td>\n",
       "      <td>0.333505</td>\n",
       "      <td>Diesel</td>\n",
       "      <td>78501.0</td>\n",
       "    </tr>\n",
       "    <tr>\n",
       "      <th>2</th>\n",
       "      <td>15</td>\n",
       "      <td>86</td>\n",
       "      <td>2015</td>\n",
       "      <td>0.691768</td>\n",
       "      <td>0.384378</td>\n",
       "      <td>Diesel</td>\n",
       "      <td>27000.0</td>\n",
       "    </tr>\n",
       "    <tr>\n",
       "      <th>3</th>\n",
       "      <td>15</td>\n",
       "      <td>86</td>\n",
       "      <td>2016</td>\n",
       "      <td>0.118259</td>\n",
       "      <td>0.204522</td>\n",
       "      <td>Diesel</td>\n",
       "      <td>30800.0</td>\n",
       "    </tr>\n",
       "    <tr>\n",
       "      <th>4</th>\n",
       "      <td>15</td>\n",
       "      <td>86</td>\n",
       "      <td>2014</td>\n",
       "      <td>0.255899</td>\n",
       "      <td>0.282631</td>\n",
       "      <td>CNG</td>\n",
       "      <td>35900.0</td>\n",
       "    </tr>\n",
       "    <tr>\n",
       "      <th>...</th>\n",
       "      <td>...</td>\n",
       "      <td>...</td>\n",
       "      <td>...</td>\n",
       "      <td>...</td>\n",
       "      <td>...</td>\n",
       "      <td>...</td>\n",
       "      <td>...</td>\n",
       "    </tr>\n",
       "    <tr>\n",
       "      <th>110018</th>\n",
       "      <td>22</td>\n",
       "      <td>289</td>\n",
       "      <td>2017</td>\n",
       "      <td>0.126706</td>\n",
       "      <td>0.575026</td>\n",
       "      <td>Diesel</td>\n",
       "      <td>229900.0</td>\n",
       "    </tr>\n",
       "    <tr>\n",
       "      <th>110019</th>\n",
       "      <td>22</td>\n",
       "      <td>289</td>\n",
       "      <td>2016</td>\n",
       "      <td>0.207451</td>\n",
       "      <td>0.575026</td>\n",
       "      <td>Gasoline</td>\n",
       "      <td>135000.0</td>\n",
       "    </tr>\n",
       "    <tr>\n",
       "      <th>110020</th>\n",
       "      <td>22</td>\n",
       "      <td>289</td>\n",
       "      <td>2017</td>\n",
       "      <td>0.432297</td>\n",
       "      <td>0.575026</td>\n",
       "      <td>Diesel</td>\n",
       "      <td>154500.0</td>\n",
       "    </tr>\n",
       "    <tr>\n",
       "      <th>110021</th>\n",
       "      <td>22</td>\n",
       "      <td>289</td>\n",
       "      <td>2016</td>\n",
       "      <td>0.469614</td>\n",
       "      <td>0.575026</td>\n",
       "      <td>Gasoline</td>\n",
       "      <td>130000.0</td>\n",
       "    </tr>\n",
       "    <tr>\n",
       "      <th>110022</th>\n",
       "      <td>22</td>\n",
       "      <td>289</td>\n",
       "      <td>2016</td>\n",
       "      <td>0.236023</td>\n",
       "      <td>0.575026</td>\n",
       "      <td>Gasoline</td>\n",
       "      <td>126000.0</td>\n",
       "    </tr>\n",
       "  </tbody>\n",
       "</table>\n",
       "<p>99777 rows × 7 columns</p>\n",
       "</div>"
      ],
      "text/plain": [
       "        mark  model  year   mileage  vol_engine      fuel     price\n",
       "0         15     86  2015  0.346751    0.204522    Diesel   35900.0\n",
       "1         15     86  2018  0.079478    0.333505    Diesel   78501.0\n",
       "2         15     86  2015  0.691768    0.384378    Diesel   27000.0\n",
       "3         15     86  2016  0.118259    0.204522    Diesel   30800.0\n",
       "4         15     86  2014  0.255899    0.282631       CNG   35900.0\n",
       "...      ...    ...   ...       ...         ...       ...       ...\n",
       "110018    22    289  2017  0.126706    0.575026    Diesel  229900.0\n",
       "110019    22    289  2016  0.207451    0.575026  Gasoline  135000.0\n",
       "110020    22    289  2017  0.432297    0.575026    Diesel  154500.0\n",
       "110021    22    289  2016  0.469614    0.575026  Gasoline  130000.0\n",
       "110022    22    289  2016  0.236023    0.575026  Gasoline  126000.0\n",
       "\n",
       "[99777 rows x 7 columns]"
      ]
     },
     "execution_count": 53,
     "metadata": {},
     "output_type": "execute_result"
    }
   ],
   "source": [
    "df1"
   ]
  },
  {
   "cell_type": "code",
   "execution_count": null,
   "id": "4726651c",
   "metadata": {
    "execution": {
     "iopub.execute_input": "2023-12-12T22:19:11.475338Z",
     "iopub.status.busy": "2023-12-12T22:19:11.474811Z",
     "iopub.status.idle": "2023-12-12T22:19:11.818714Z",
     "shell.execute_reply": "2023-12-12T22:19:11.817257Z"
    },
    "papermill": {
     "duration": 0.362496,
     "end_time": "2023-12-12T22:19:11.822061",
     "exception": false,
     "start_time": "2023-12-12T22:19:11.459565",
     "status": "completed"
    },
    "tags": []
   },
   "outputs": [
    {
     "data": {
      "text/plain": [
       "['one_hot_encoder.joblib']"
      ]
     },
     "execution_count": 54,
     "metadata": {},
     "output_type": "execute_result"
    }
   ],
   "source": [
    "from sklearn.preprocessing import OneHotEncoder\n",
    "from sklearn.compose import ColumnTransformer\n",
    "# # One-Hot Encoding for low cardinality features\n",
    "df_encoded = pd.get_dummies(df1, columns=[ 'fuel'])\n",
    "# Save the OneHotEncoder\n",
    "# Save the column names as a list\n",
    "encoder = df_encoded.columns.tolist()\n",
    "joblib.dump(encoder, \"one_hot_encoder.joblib\")\n",
    "# one_hot_encoder = OneHotEncoder(sparse=False)\n",
    "\n",
    "# # Step 2: Fit and transform the DataFrame\n",
    "# df_encoded = one_hot_encoder.fit_transform(df1[['fuel']])\n",
    "\n",
    "\n",
    "# # Step 3: Create a new DataFrame from the encoded data\n",
    "# df_encoded = pd.DataFrame(df_encoded, columns=one_hot_encoder.get_feature_names_out(['fuel']))\n",
    "\n",
    "# # Step 4: Concatenate the original DataFrame with the encoded DataFrame\n",
    "# df_encoded = pd.concat([df1.drop(columns=['fuel']), df_encoded], axis=1)\n",
    "\n",
    "# joblib.dump(label_encoder, \"cars_onehot_encoder.joblib\") \n"
   ]
  },
  {
   "cell_type": "code",
   "execution_count": null,
   "id": "1bf3a2e4",
   "metadata": {
    "execution": {
     "iopub.execute_input": "2023-12-12T22:19:11.852531Z",
     "iopub.status.busy": "2023-12-12T22:19:11.852017Z",
     "iopub.status.idle": "2023-12-12T22:19:11.916295Z",
     "shell.execute_reply": "2023-12-12T22:19:11.914427Z"
    },
    "papermill": {
     "duration": 0.085607,
     "end_time": "2023-12-12T22:19:11.922310",
     "exception": false,
     "start_time": "2023-12-12T22:19:11.836703",
     "status": "completed"
    },
    "tags": []
   },
   "outputs": [
    {
     "data": {
      "text/html": [
       "<div>\n",
       "<style scoped>\n",
       "    .dataframe tbody tr th:only-of-type {\n",
       "        vertical-align: middle;\n",
       "    }\n",
       "\n",
       "    .dataframe tbody tr th {\n",
       "        vertical-align: top;\n",
       "    }\n",
       "\n",
       "    .dataframe thead th {\n",
       "        text-align: right;\n",
       "    }\n",
       "</style>\n",
       "<table border=\"1\" class=\"dataframe\">\n",
       "  <thead>\n",
       "    <tr style=\"text-align: right;\">\n",
       "      <th></th>\n",
       "      <th>mark</th>\n",
       "      <th>model</th>\n",
       "      <th>year</th>\n",
       "      <th>mileage</th>\n",
       "      <th>vol_engine</th>\n",
       "      <th>price</th>\n",
       "      <th>fuel_CNG</th>\n",
       "      <th>fuel_Diesel</th>\n",
       "      <th>fuel_Electric</th>\n",
       "      <th>fuel_Gasoline</th>\n",
       "      <th>fuel_Hybrid</th>\n",
       "      <th>fuel_LPG</th>\n",
       "    </tr>\n",
       "  </thead>\n",
       "  <tbody>\n",
       "    <tr>\n",
       "      <th>0</th>\n",
       "      <td>15</td>\n",
       "      <td>86</td>\n",
       "      <td>2015</td>\n",
       "      <td>0.346751</td>\n",
       "      <td>0.204522</td>\n",
       "      <td>35900.0</td>\n",
       "      <td>0</td>\n",
       "      <td>1</td>\n",
       "      <td>0</td>\n",
       "      <td>0</td>\n",
       "      <td>0</td>\n",
       "      <td>0</td>\n",
       "    </tr>\n",
       "    <tr>\n",
       "      <th>1</th>\n",
       "      <td>15</td>\n",
       "      <td>86</td>\n",
       "      <td>2018</td>\n",
       "      <td>0.079478</td>\n",
       "      <td>0.333505</td>\n",
       "      <td>78501.0</td>\n",
       "      <td>0</td>\n",
       "      <td>1</td>\n",
       "      <td>0</td>\n",
       "      <td>0</td>\n",
       "      <td>0</td>\n",
       "      <td>0</td>\n",
       "    </tr>\n",
       "    <tr>\n",
       "      <th>2</th>\n",
       "      <td>15</td>\n",
       "      <td>86</td>\n",
       "      <td>2015</td>\n",
       "      <td>0.691768</td>\n",
       "      <td>0.384378</td>\n",
       "      <td>27000.0</td>\n",
       "      <td>0</td>\n",
       "      <td>1</td>\n",
       "      <td>0</td>\n",
       "      <td>0</td>\n",
       "      <td>0</td>\n",
       "      <td>0</td>\n",
       "    </tr>\n",
       "    <tr>\n",
       "      <th>3</th>\n",
       "      <td>15</td>\n",
       "      <td>86</td>\n",
       "      <td>2016</td>\n",
       "      <td>0.118259</td>\n",
       "      <td>0.204522</td>\n",
       "      <td>30800.0</td>\n",
       "      <td>0</td>\n",
       "      <td>1</td>\n",
       "      <td>0</td>\n",
       "      <td>0</td>\n",
       "      <td>0</td>\n",
       "      <td>0</td>\n",
       "    </tr>\n",
       "    <tr>\n",
       "      <th>4</th>\n",
       "      <td>15</td>\n",
       "      <td>86</td>\n",
       "      <td>2014</td>\n",
       "      <td>0.255899</td>\n",
       "      <td>0.282631</td>\n",
       "      <td>35900.0</td>\n",
       "      <td>1</td>\n",
       "      <td>0</td>\n",
       "      <td>0</td>\n",
       "      <td>0</td>\n",
       "      <td>0</td>\n",
       "      <td>0</td>\n",
       "    </tr>\n",
       "    <tr>\n",
       "      <th>...</th>\n",
       "      <td>...</td>\n",
       "      <td>...</td>\n",
       "      <td>...</td>\n",
       "      <td>...</td>\n",
       "      <td>...</td>\n",
       "      <td>...</td>\n",
       "      <td>...</td>\n",
       "      <td>...</td>\n",
       "      <td>...</td>\n",
       "      <td>...</td>\n",
       "      <td>...</td>\n",
       "      <td>...</td>\n",
       "    </tr>\n",
       "    <tr>\n",
       "      <th>110018</th>\n",
       "      <td>22</td>\n",
       "      <td>289</td>\n",
       "      <td>2017</td>\n",
       "      <td>0.126706</td>\n",
       "      <td>0.575026</td>\n",
       "      <td>229900.0</td>\n",
       "      <td>0</td>\n",
       "      <td>1</td>\n",
       "      <td>0</td>\n",
       "      <td>0</td>\n",
       "      <td>0</td>\n",
       "      <td>0</td>\n",
       "    </tr>\n",
       "    <tr>\n",
       "      <th>110019</th>\n",
       "      <td>22</td>\n",
       "      <td>289</td>\n",
       "      <td>2016</td>\n",
       "      <td>0.207451</td>\n",
       "      <td>0.575026</td>\n",
       "      <td>135000.0</td>\n",
       "      <td>0</td>\n",
       "      <td>0</td>\n",
       "      <td>0</td>\n",
       "      <td>1</td>\n",
       "      <td>0</td>\n",
       "      <td>0</td>\n",
       "    </tr>\n",
       "    <tr>\n",
       "      <th>110020</th>\n",
       "      <td>22</td>\n",
       "      <td>289</td>\n",
       "      <td>2017</td>\n",
       "      <td>0.432297</td>\n",
       "      <td>0.575026</td>\n",
       "      <td>154500.0</td>\n",
       "      <td>0</td>\n",
       "      <td>1</td>\n",
       "      <td>0</td>\n",
       "      <td>0</td>\n",
       "      <td>0</td>\n",
       "      <td>0</td>\n",
       "    </tr>\n",
       "    <tr>\n",
       "      <th>110021</th>\n",
       "      <td>22</td>\n",
       "      <td>289</td>\n",
       "      <td>2016</td>\n",
       "      <td>0.469614</td>\n",
       "      <td>0.575026</td>\n",
       "      <td>130000.0</td>\n",
       "      <td>0</td>\n",
       "      <td>0</td>\n",
       "      <td>0</td>\n",
       "      <td>1</td>\n",
       "      <td>0</td>\n",
       "      <td>0</td>\n",
       "    </tr>\n",
       "    <tr>\n",
       "      <th>110022</th>\n",
       "      <td>22</td>\n",
       "      <td>289</td>\n",
       "      <td>2016</td>\n",
       "      <td>0.236023</td>\n",
       "      <td>0.575026</td>\n",
       "      <td>126000.0</td>\n",
       "      <td>0</td>\n",
       "      <td>0</td>\n",
       "      <td>0</td>\n",
       "      <td>1</td>\n",
       "      <td>0</td>\n",
       "      <td>0</td>\n",
       "    </tr>\n",
       "  </tbody>\n",
       "</table>\n",
       "<p>99777 rows × 12 columns</p>\n",
       "</div>"
      ],
      "text/plain": [
       "        mark  model  year   mileage  vol_engine     price  fuel_CNG  \\\n",
       "0         15     86  2015  0.346751    0.204522   35900.0         0   \n",
       "1         15     86  2018  0.079478    0.333505   78501.0         0   \n",
       "2         15     86  2015  0.691768    0.384378   27000.0         0   \n",
       "3         15     86  2016  0.118259    0.204522   30800.0         0   \n",
       "4         15     86  2014  0.255899    0.282631   35900.0         1   \n",
       "...      ...    ...   ...       ...         ...       ...       ...   \n",
       "110018    22    289  2017  0.126706    0.575026  229900.0         0   \n",
       "110019    22    289  2016  0.207451    0.575026  135000.0         0   \n",
       "110020    22    289  2017  0.432297    0.575026  154500.0         0   \n",
       "110021    22    289  2016  0.469614    0.575026  130000.0         0   \n",
       "110022    22    289  2016  0.236023    0.575026  126000.0         0   \n",
       "\n",
       "        fuel_Diesel  fuel_Electric  fuel_Gasoline  fuel_Hybrid  fuel_LPG  \n",
       "0                 1              0              0            0         0  \n",
       "1                 1              0              0            0         0  \n",
       "2                 1              0              0            0         0  \n",
       "3                 1              0              0            0         0  \n",
       "4                 0              0              0            0         0  \n",
       "...             ...            ...            ...          ...       ...  \n",
       "110018            1              0              0            0         0  \n",
       "110019            0              0              1            0         0  \n",
       "110020            1              0              0            0         0  \n",
       "110021            0              0              1            0         0  \n",
       "110022            0              0              1            0         0  \n",
       "\n",
       "[99777 rows x 12 columns]"
      ]
     },
     "execution_count": 55,
     "metadata": {},
     "output_type": "execute_result"
    }
   ],
   "source": [
    "df_encoded"
   ]
  },
  {
   "cell_type": "code",
   "execution_count": null,
   "id": "20486fbd",
   "metadata": {
    "execution": {
     "iopub.execute_input": "2023-12-12T22:19:11.959658Z",
     "iopub.status.busy": "2023-12-12T22:19:11.958570Z",
     "iopub.status.idle": "2023-12-12T22:21:55.669619Z",
     "shell.execute_reply": "2023-12-12T22:21:55.668448Z"
    },
    "papermill": {
     "duration": 163.847911,
     "end_time": "2023-12-12T22:21:55.787891",
     "exception": false,
     "start_time": "2023-12-12T22:19:11.939980",
     "status": "completed"
    },
    "tags": []
   },
   "outputs": [
    {
     "name": "stdout",
     "output_type": "stream",
     "text": [
      "Mean Squared Error: 269362180.8729368\n",
      "R^2 Score: 0.9183128842379736\n",
      "Testing Score: 0.9183128842379736\n"
     ]
    }
   ],
   "source": [
    "from sklearn.model_selection import train_test_split\n",
    "from sklearn.ensemble import GradientBoostingRegressor\n",
    "from sklearn.metrics import mean_squared_error, r2_score\n",
    "\n",
    "# Splitting the data\n",
    "X = df_encoded.drop(['price'], axis=1)\n",
    "y = df_encoded['price']\n",
    "X_train, X_test, y_train, y_test = train_test_split(X, y, test_size=0.2, random_state=42)\n",
    "\n",
    "\n",
    "# Gradient Boosting Regressor\n",
    "gb_model = GradientBoostingRegressor(n_estimators=200, learning_rate=0.1, max_depth=5, random_state=42)\n",
    "gb_model.fit(X_train, y_train)\n",
    "\n",
    "# Predictions\n",
    "y_pred = gb_model.predict(X_test)\n",
    "\n",
    "# Model Evaluation\n",
    "mse = mean_squared_error(y_test, y_pred)\n",
    "r2 = r2_score(y_test, y_pred)\n",
    "print(f'Mean Squared Error: {mse}')\n",
    "print(f'R^2 Score: {r2}')\n",
    "# Save the trained model weights to a file\n",
    "joblib.dump(gb_model, 'cars_gb_model.joblib')\n",
    "print(\"Testing Score:\", gb_model.score(X_test, y_test))\n",
    "\n",
    "\n"
   ]
  },
  {
   "cell_type": "code",
   "execution_count": 1,
   "id": "7ef3f972",
   "metadata": {},
   "outputs": [
    {
     "name": "stdout",
     "output_type": "stream",
     "text": [
      "   mark  model  year  mileage  vol_engine  fuel_CNG  fuel_Diesel  \\\n",
      "0     0      0  2012      0.0         0.0       NaN         True   \n",
      "\n",
      "   fuel_Electric  fuel_Gasoline  fuel_Hybrid  fuel_LPG  \n",
      "0            NaN            NaN          NaN       NaN  \n",
      "[39430.44932405]\n"
     ]
    }
   ],
   "source": [
    "import pandas as pd\n",
    "import joblib\n",
    "\n",
    "\n",
    "\n",
    "#Using inference on given data\n",
    "new_data = pd.DataFrame({\n",
    "    'mark': ['chevrolet'],\n",
    "    'model': ['cruze'],\n",
    "    \n",
    "    'year': [2012],\n",
    "    'mileage': [220000],\n",
    "    'vol_engine': [1991],\n",
    "    'fuel': ['Diesel']\n",
    "})\n",
    "\n",
    "normalizer = joblib.load('cars_minmaxscaler.joblib')\n",
    "new_data_normalized = normalizer.fit_transform(new_data[['mileage', 'vol_engine']]) # Apply to numerical columns\n",
    "new_data[['mileage', 'vol_engine']] = new_data_normalized\n",
    "\n",
    "\n",
    "scaler = joblib.load('cars_stdscaler.joblib')\n",
    "new_data_scaled = scaler.fit_transform(new_data[['mileage', 'vol_engine']]) # Apply to numerical columns\n",
    "new_data[['mileage', 'vol_engine']] = new_data_scaled\n",
    "\n",
    "#Preprocess\n",
    "label_encoder = joblib.load('cars_label_encoder.joblib')\n",
    "high_cardinality_features = ['mark', 'model']\n",
    "for feature in high_cardinality_features:\n",
    "    new_data[feature] = label_encoder.fit_transform(new_data[feature])\n",
    "\n",
    "# Load the saved OneHotEncoder\n",
    "encoder = joblib.load(\"one_hot_encoder.joblib\")\n",
    "# One-Hot Encoding for low cardinality features\n",
    "df_encoded = pd.get_dummies(new_data, columns=['fuel'])\n",
    "\n",
    "# Reorder the columns based on the saved encoder\n",
    "df_encoded = df_encoded.reindex(columns=encoder)\n",
    "\n",
    "df_encoded=df_encoded.drop('price',axis=1)\n",
    "# Print the encoded DataFrame\n",
    "print(df_encoded)\n",
    "\n",
    "\n",
    "model=joblib.load('cars_gb_model.joblib')\n",
    "\n",
    "# Replace NaN values with 0\n",
    "df_encoded = df_encoded.fillna(0)\n",
    "\n",
    "\n",
    "#The predicition\n",
    "predictions=model.predict(df_encoded)\n",
    "\n",
    "print(predictions)"
   ]
  }
 ],
 "metadata": {
  "kaggle": {
   "accelerator": "none",
   "dataSources": [
    {
     "datasetId": 1878058,
     "sourceId": 3068013,
     "sourceType": "datasetVersion"
    }
   ],
   "dockerImageVersionId": 30615,
   "isGpuEnabled": false,
   "isInternetEnabled": true,
   "language": "python",
   "sourceType": "notebook"
  },
  "kernelspec": {
   "display_name": "Python 3",
   "language": "python",
   "name": "python3"
  },
  "language_info": {
   "codemirror_mode": {
    "name": "ipython",
    "version": 3
   },
   "file_extension": ".py",
   "mimetype": "text/x-python",
   "name": "python",
   "nbconvert_exporter": "python",
   "pygments_lexer": "ipython3",
   "version": "3.8.10"
  },
  "papermill": {
   "default_parameters": {},
   "duration": 173.769995,
   "end_time": "2023-12-12T22:21:56.728245",
   "environment_variables": {},
   "exception": null,
   "input_path": "__notebook__.ipynb",
   "output_path": "__notebook__.ipynb",
   "parameters": {},
   "start_time": "2023-12-12T22:19:02.958250",
   "version": "2.4.0"
  }
 },
 "nbformat": 4,
 "nbformat_minor": 5
}
