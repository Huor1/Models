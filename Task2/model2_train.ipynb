{
 "cells": [
  {
   "cell_type": "code",
   "execution_count": 16,
   "metadata": {},
   "outputs": [],
   "source": [
    "from sklearn.linear_model import LinearRegression\n",
    "from sklearn.ensemble import RandomForestRegressor, GradientBoostingRegressor\n",
    "import pandas as pd\n",
    "from sklearn.compose import ColumnTransformer\n",
    "from sklearn.preprocessing import OneHotEncoder,LabelEncoder, StandardScaler\n",
    "from sklearn.metrics import mean_squared_error, mean_absolute_error\n",
    "from sklearn.model_selection import train_test_split\n",
    "import joblib\n",
    "\n"
   ]
  },
  {
   "cell_type": "code",
   "execution_count": 17,
   "metadata": {},
   "outputs": [],
   "source": [
    "\n",
    "# Step 1: Data Preparation\n",
    "data = pd.read_excel(\"OlxDanedowgrania_2.xlsx\")  # Replace \"your_dataset.csv\" with the actual file name\n"
   ]
  },
  {
   "cell_type": "code",
   "execution_count": 18,
   "metadata": {},
   "outputs": [
    {
     "data": {
      "text/plain": [
       "(62635, 20)"
      ]
     },
     "execution_count": 18,
     "metadata": {},
     "output_type": "execute_result"
    }
   ],
   "source": [
    "# Remove rows with string characters in 'floor', 'rooms', or 'area' columns\n",
    "\n",
    "data.shape\n",
    "data = data[~data['floor'].apply(lambda x: isinstance(x, str))]\n",
    "data = data[~data['rooms'].apply(lambda x: isinstance(x, str))]\n",
    "data = data[~data['area'].apply(lambda x: isinstance(x, str))]\n",
    "data = data[~data['price'].apply(lambda x: isinstance(x, str))]\n",
    "\n",
    "# #Reset the row index\n",
    "data = data.reset_index(drop=True)\n",
    "data.shape\n",
    "\n",
    "\n",
    "\n"
   ]
  },
  {
   "cell_type": "code",
   "execution_count": 19,
   "metadata": {},
   "outputs": [],
   "source": [
    "data= data.drop(['Unnamed: 16',  'Unnamed: 17' , 'Unnamed: 18', 'Unnamed: 19' ], axis=1)\n",
    "data=data.drop([ 'price_per_meter','offer_title','month' , 'year' ,'population'   ,'longitude','latitude'],axis=1)"
   ]
  },
  {
   "cell_type": "code",
   "execution_count": 20,
   "metadata": {},
   "outputs": [],
   "source": [
    "data=data.drop_duplicates()\n",
    "data=data.dropna()\n",
    "\n"
   ]
  },
  {
   "cell_type": "code",
   "execution_count": 21,
   "metadata": {},
   "outputs": [
    {
     "data": {
      "text/html": [
       "<div>\n",
       "<style scoped>\n",
       "    .dataframe tbody tr th:only-of-type {\n",
       "        vertical-align: middle;\n",
       "    }\n",
       "\n",
       "    .dataframe tbody tr th {\n",
       "        vertical-align: top;\n",
       "    }\n",
       "\n",
       "    .dataframe thead th {\n",
       "        text-align: right;\n",
       "    }\n",
       "</style>\n",
       "<table border=\"1\" class=\"dataframe\">\n",
       "  <thead>\n",
       "    <tr style=\"text-align: right;\">\n",
       "      <th></th>\n",
       "      <th>price</th>\n",
       "      <th>offer_type</th>\n",
       "      <th>floor</th>\n",
       "      <th>area</th>\n",
       "      <th>rooms</th>\n",
       "      <th>offer_type_of_building</th>\n",
       "      <th>market</th>\n",
       "      <th>city_name</th>\n",
       "      <th>voivodeship</th>\n",
       "    </tr>\n",
       "  </thead>\n",
       "  <tbody>\n",
       "    <tr>\n",
       "      <th>0</th>\n",
       "      <td>240000</td>\n",
       "      <td>Private</td>\n",
       "      <td>1</td>\n",
       "      <td>27.00</td>\n",
       "      <td>1</td>\n",
       "      <td>Housing Block</td>\n",
       "      <td>primary</td>\n",
       "      <td>Bolesławiec</td>\n",
       "      <td>Lower Silesia</td>\n",
       "    </tr>\n",
       "    <tr>\n",
       "      <th>1</th>\n",
       "      <td>250000</td>\n",
       "      <td>Private</td>\n",
       "      <td>1</td>\n",
       "      <td>35.00</td>\n",
       "      <td>1</td>\n",
       "      <td>Housing Block</td>\n",
       "      <td>primary</td>\n",
       "      <td>Jelcz-Laskowice</td>\n",
       "      <td>Lower Silesia</td>\n",
       "    </tr>\n",
       "    <tr>\n",
       "      <th>2</th>\n",
       "      <td>259000</td>\n",
       "      <td>Estate Agency</td>\n",
       "      <td>2</td>\n",
       "      <td>25.00</td>\n",
       "      <td>1</td>\n",
       "      <td>Housing Block</td>\n",
       "      <td>primary</td>\n",
       "      <td>Wrocław</td>\n",
       "      <td>Lower Silesia</td>\n",
       "    </tr>\n",
       "    <tr>\n",
       "      <th>3</th>\n",
       "      <td>269000</td>\n",
       "      <td>Private</td>\n",
       "      <td>3</td>\n",
       "      <td>26.18</td>\n",
       "      <td>1</td>\n",
       "      <td>Apartment Building</td>\n",
       "      <td>primary</td>\n",
       "      <td>Wrocław</td>\n",
       "      <td>Lower Silesia</td>\n",
       "    </tr>\n",
       "    <tr>\n",
       "      <th>4</th>\n",
       "      <td>258000</td>\n",
       "      <td>Estate Agency</td>\n",
       "      <td>3</td>\n",
       "      <td>26.00</td>\n",
       "      <td>1</td>\n",
       "      <td>Housing Block</td>\n",
       "      <td>primary</td>\n",
       "      <td>Wrocław</td>\n",
       "      <td>Lower Silesia</td>\n",
       "    </tr>\n",
       "  </tbody>\n",
       "</table>\n",
       "</div>"
      ],
      "text/plain": [
       "    price     offer_type  floor   area  rooms offer_type_of_building   market  \\\n",
       "0  240000        Private      1  27.00      1          Housing Block  primary   \n",
       "1  250000        Private      1  35.00      1          Housing Block  primary   \n",
       "2  259000  Estate Agency      2  25.00      1          Housing Block  primary   \n",
       "3  269000        Private      3  26.18      1     Apartment Building  primary   \n",
       "4  258000  Estate Agency      3  26.00      1          Housing Block  primary   \n",
       "\n",
       "         city_name    voivodeship  \n",
       "0      Bolesławiec  Lower Silesia  \n",
       "1  Jelcz-Laskowice  Lower Silesia  \n",
       "2          Wrocław  Lower Silesia  \n",
       "3          Wrocław  Lower Silesia  \n",
       "4          Wrocław  Lower Silesia  "
      ]
     },
     "execution_count": 21,
     "metadata": {},
     "output_type": "execute_result"
    }
   ],
   "source": [
    "#Pre Processing\n",
    "data['rooms'] = data['rooms'].astype(int)\n",
    "data['floor'] = data['floor'].astype(int)\n",
    "data['price'] = data['price'].astype(int)\n",
    "data['area'] = data['area'].astype(float)\n",
    "\n",
    "\n",
    "data.head()"
   ]
  },
  {
   "cell_type": "code",
   "execution_count": 22,
   "metadata": {},
   "outputs": [],
   "source": [
    "# Define a function to calculate IQR and detect outliers\n",
    "def detect_outliers(df, column):\n",
    "    Q1 = df[column].quantile(0.25)\n",
    "    Q3 = df[column].quantile(0.75)\n",
    "    IQR = Q3 - Q1\n",
    "    upper_bound = Q3 + 1.5 * IQR\n",
    "    lower_bound = Q1 - 1.5 * IQR\n",
    "    outliers = df[(df[column] > upper_bound) | (df[column] < lower_bound)]\n",
    "    return outliers"
   ]
  },
  {
   "cell_type": "code",
   "execution_count": 23,
   "metadata": {},
   "outputs": [
    {
     "name": "stdout",
     "output_type": "stream",
     "text": [
      "Number of outliers in 'price': 2787\n"
     ]
    }
   ],
   "source": [
    "# Detect outliers in 'mileage'\n",
    "price_outliers = detect_outliers(data, 'price')\n",
    "print(f\"Number of outliers in 'price': {len(price_outliers)}\")"
   ]
  },
  {
   "cell_type": "code",
   "execution_count": 24,
   "metadata": {},
   "outputs": [
    {
     "data": {
      "text/plain": [
       "price                     0\n",
       "offer_type                0\n",
       "floor                     0\n",
       "area                      0\n",
       "rooms                     0\n",
       "offer_type_of_building    0\n",
       "market                    0\n",
       "city_name                 0\n",
       "voivodeship               0\n",
       "dtype: int64"
      ]
     },
     "execution_count": 24,
     "metadata": {},
     "output_type": "execute_result"
    }
   ],
   "source": [
    "data.isnull().sum()"
   ]
  },
  {
   "cell_type": "code",
   "execution_count": 26,
   "metadata": {},
   "outputs": [
    {
     "ename": "ValueError",
     "evalue": "could not convert string to float: 'Private'",
     "output_type": "error",
     "traceback": [
      "\u001b[0;31m---------------------------------------------------------------------------\u001b[0m",
      "\u001b[0;31mValueError\u001b[0m                                Traceback (most recent call last)",
      "Cell \u001b[0;32mIn[26], line 3\u001b[0m\n\u001b[1;32m      1\u001b[0m \u001b[38;5;28;01mimport\u001b[39;00m \u001b[38;5;21;01mseaborn\u001b[39;00m \u001b[38;5;28;01mas\u001b[39;00m \u001b[38;5;21;01msns\u001b[39;00m\n\u001b[1;32m      2\u001b[0m \u001b[38;5;28;01mimport\u001b[39;00m \u001b[38;5;21;01mmatplotlib\u001b[39;00m \u001b[38;5;28;01mas\u001b[39;00m \u001b[38;5;21;01mplt\u001b[39;00m\n\u001b[0;32m----> 3\u001b[0m correlation \u001b[38;5;241m=\u001b[39m \u001b[43mdata\u001b[49m\u001b[38;5;241;43m.\u001b[39;49m\u001b[43mcorr\u001b[49m\u001b[43m(\u001b[49m\u001b[43m)\u001b[49m[\u001b[38;5;124m'\u001b[39m\u001b[38;5;124mprice\u001b[39m\u001b[38;5;124m'\u001b[39m]\u001b[38;5;241m.\u001b[39msort_values(ascending \u001b[38;5;241m=\u001b[39m \u001b[38;5;28;01mFalse\u001b[39;00m)\u001b[38;5;241m.\u001b[39mto_frame()\u001b[38;5;241m.\u001b[39mhead(\u001b[38;5;241m10\u001b[39m)\n\u001b[1;32m      5\u001b[0m cmap \u001b[38;5;241m=\u001b[39m sns\u001b[38;5;241m.\u001b[39mlight_palette(\u001b[38;5;124m\"\u001b[39m\u001b[38;5;124mcyan\u001b[39m\u001b[38;5;124m\"\u001b[39m, as_cmap \u001b[38;5;241m=\u001b[39m \u001b[38;5;28;01mTrue\u001b[39;00m)\n\u001b[1;32m      7\u001b[0m s \u001b[38;5;241m=\u001b[39m correlation\u001b[38;5;241m.\u001b[39mstyle\u001b[38;5;241m.\u001b[39mbackground_gradient(cmap \u001b[38;5;241m=\u001b[39m cmap)\n",
      "File \u001b[0;32m~/.local/lib/python3.8/site-packages/pandas/core/frame.py:10054\u001b[0m, in \u001b[0;36mDataFrame.corr\u001b[0;34m(self, method, min_periods, numeric_only)\u001b[0m\n\u001b[1;32m  10052\u001b[0m cols \u001b[38;5;241m=\u001b[39m data\u001b[38;5;241m.\u001b[39mcolumns\n\u001b[1;32m  10053\u001b[0m idx \u001b[38;5;241m=\u001b[39m cols\u001b[38;5;241m.\u001b[39mcopy()\n\u001b[0;32m> 10054\u001b[0m mat \u001b[38;5;241m=\u001b[39m \u001b[43mdata\u001b[49m\u001b[38;5;241;43m.\u001b[39;49m\u001b[43mto_numpy\u001b[49m\u001b[43m(\u001b[49m\u001b[43mdtype\u001b[49m\u001b[38;5;241;43m=\u001b[39;49m\u001b[38;5;28;43mfloat\u001b[39;49m\u001b[43m,\u001b[49m\u001b[43m \u001b[49m\u001b[43mna_value\u001b[49m\u001b[38;5;241;43m=\u001b[39;49m\u001b[43mnp\u001b[49m\u001b[38;5;241;43m.\u001b[39;49m\u001b[43mnan\u001b[49m\u001b[43m,\u001b[49m\u001b[43m \u001b[49m\u001b[43mcopy\u001b[49m\u001b[38;5;241;43m=\u001b[39;49m\u001b[38;5;28;43;01mFalse\u001b[39;49;00m\u001b[43m)\u001b[49m\n\u001b[1;32m  10056\u001b[0m \u001b[38;5;28;01mif\u001b[39;00m method \u001b[38;5;241m==\u001b[39m \u001b[38;5;124m\"\u001b[39m\u001b[38;5;124mpearson\u001b[39m\u001b[38;5;124m\"\u001b[39m:\n\u001b[1;32m  10057\u001b[0m     correl \u001b[38;5;241m=\u001b[39m libalgos\u001b[38;5;241m.\u001b[39mnancorr(mat, minp\u001b[38;5;241m=\u001b[39mmin_periods)\n",
      "File \u001b[0;32m~/.local/lib/python3.8/site-packages/pandas/core/frame.py:1838\u001b[0m, in \u001b[0;36mDataFrame.to_numpy\u001b[0;34m(self, dtype, copy, na_value)\u001b[0m\n\u001b[1;32m   1836\u001b[0m \u001b[38;5;28;01mif\u001b[39;00m dtype \u001b[38;5;129;01mis\u001b[39;00m \u001b[38;5;129;01mnot\u001b[39;00m \u001b[38;5;28;01mNone\u001b[39;00m:\n\u001b[1;32m   1837\u001b[0m     dtype \u001b[38;5;241m=\u001b[39m np\u001b[38;5;241m.\u001b[39mdtype(dtype)\n\u001b[0;32m-> 1838\u001b[0m result \u001b[38;5;241m=\u001b[39m \u001b[38;5;28;43mself\u001b[39;49m\u001b[38;5;241;43m.\u001b[39;49m\u001b[43m_mgr\u001b[49m\u001b[38;5;241;43m.\u001b[39;49m\u001b[43mas_array\u001b[49m\u001b[43m(\u001b[49m\u001b[43mdtype\u001b[49m\u001b[38;5;241;43m=\u001b[39;49m\u001b[43mdtype\u001b[49m\u001b[43m,\u001b[49m\u001b[43m \u001b[49m\u001b[43mcopy\u001b[49m\u001b[38;5;241;43m=\u001b[39;49m\u001b[43mcopy\u001b[49m\u001b[43m,\u001b[49m\u001b[43m \u001b[49m\u001b[43mna_value\u001b[49m\u001b[38;5;241;43m=\u001b[39;49m\u001b[43mna_value\u001b[49m\u001b[43m)\u001b[49m\n\u001b[1;32m   1839\u001b[0m \u001b[38;5;28;01mif\u001b[39;00m result\u001b[38;5;241m.\u001b[39mdtype \u001b[38;5;129;01mis\u001b[39;00m \u001b[38;5;129;01mnot\u001b[39;00m dtype:\n\u001b[1;32m   1840\u001b[0m     result \u001b[38;5;241m=\u001b[39m np\u001b[38;5;241m.\u001b[39marray(result, dtype\u001b[38;5;241m=\u001b[39mdtype, copy\u001b[38;5;241m=\u001b[39m\u001b[38;5;28;01mFalse\u001b[39;00m)\n",
      "File \u001b[0;32m~/.local/lib/python3.8/site-packages/pandas/core/internals/managers.py:1732\u001b[0m, in \u001b[0;36mBlockManager.as_array\u001b[0;34m(self, dtype, copy, na_value)\u001b[0m\n\u001b[1;32m   1730\u001b[0m         arr\u001b[38;5;241m.\u001b[39mflags\u001b[38;5;241m.\u001b[39mwriteable \u001b[38;5;241m=\u001b[39m \u001b[38;5;28;01mFalse\u001b[39;00m\n\u001b[1;32m   1731\u001b[0m \u001b[38;5;28;01melse\u001b[39;00m:\n\u001b[0;32m-> 1732\u001b[0m     arr \u001b[38;5;241m=\u001b[39m \u001b[38;5;28;43mself\u001b[39;49m\u001b[38;5;241;43m.\u001b[39;49m\u001b[43m_interleave\u001b[49m\u001b[43m(\u001b[49m\u001b[43mdtype\u001b[49m\u001b[38;5;241;43m=\u001b[39;49m\u001b[43mdtype\u001b[49m\u001b[43m,\u001b[49m\u001b[43m \u001b[49m\u001b[43mna_value\u001b[49m\u001b[38;5;241;43m=\u001b[39;49m\u001b[43mna_value\u001b[49m\u001b[43m)\u001b[49m\n\u001b[1;32m   1733\u001b[0m     \u001b[38;5;66;03m# The underlying data was copied within _interleave, so no need\u001b[39;00m\n\u001b[1;32m   1734\u001b[0m     \u001b[38;5;66;03m# to further copy if copy=True or setting na_value\u001b[39;00m\n\u001b[1;32m   1736\u001b[0m \u001b[38;5;28;01mif\u001b[39;00m na_value \u001b[38;5;129;01mis\u001b[39;00m \u001b[38;5;129;01mnot\u001b[39;00m lib\u001b[38;5;241m.\u001b[39mno_default:\n",
      "File \u001b[0;32m~/.local/lib/python3.8/site-packages/pandas/core/internals/managers.py:1794\u001b[0m, in \u001b[0;36mBlockManager._interleave\u001b[0;34m(self, dtype, na_value)\u001b[0m\n\u001b[1;32m   1792\u001b[0m     \u001b[38;5;28;01melse\u001b[39;00m:\n\u001b[1;32m   1793\u001b[0m         arr \u001b[38;5;241m=\u001b[39m blk\u001b[38;5;241m.\u001b[39mget_values(dtype)\n\u001b[0;32m-> 1794\u001b[0m     \u001b[43mresult\u001b[49m\u001b[43m[\u001b[49m\u001b[43mrl\u001b[49m\u001b[38;5;241;43m.\u001b[39;49m\u001b[43mindexer\u001b[49m\u001b[43m]\u001b[49m \u001b[38;5;241m=\u001b[39m arr\n\u001b[1;32m   1795\u001b[0m     itemmask[rl\u001b[38;5;241m.\u001b[39mindexer] \u001b[38;5;241m=\u001b[39m \u001b[38;5;241m1\u001b[39m\n\u001b[1;32m   1797\u001b[0m \u001b[38;5;28;01mif\u001b[39;00m \u001b[38;5;129;01mnot\u001b[39;00m itemmask\u001b[38;5;241m.\u001b[39mall():\n",
      "\u001b[0;31mValueError\u001b[0m: could not convert string to float: 'Private'"
     ]
    }
   ],
   "source": [
    "import seaborn as sns\n",
    "import matplotlib as plt\n",
    "correlation = data.corr()['price'].sort_values(ascending = False).to_frame().head(10)\n",
    "\n",
    "cmap = sns.light_palette(\"cyan\", as_cmap = True)\n",
    "\n",
    "s = correlation.style.background_gradient(cmap = cmap)"
   ]
  },
  {
   "cell_type": "code",
   "execution_count": null,
   "metadata": {},
   "outputs": [],
   "source": [
    "# Remove outliers from the dataset\n",
    "data = data[~data.index.isin(price_outliers.index)]"
   ]
  },
  {
   "cell_type": "code",
   "execution_count": null,
   "metadata": {},
   "outputs": [
    {
     "data": {
      "text/plain": [
       "['houses_stdscaler.joblib']"
      ]
     },
     "execution_count": 181,
     "metadata": {},
     "output_type": "execute_result"
    }
   ],
   "source": [
    "\n",
    "\n",
    "# Normalize numerical columns\n",
    "numerical_cols = ['rooms', 'floor','area']\n",
    "scaler = StandardScaler()\n",
    "data[numerical_cols] = scaler.fit_transform(data[numerical_cols])\n",
    "joblib.dump(scaler, \"houses_stdscaler.joblib\")\n"
   ]
  },
  {
   "cell_type": "code",
   "execution_count": null,
   "metadata": {},
   "outputs": [
    {
     "name": "stderr",
     "output_type": "stream",
     "text": [
      "c:\\Users\\asde0\\anaconda3\\lib\\site-packages\\sklearn\\preprocessing\\_encoders.py:868: FutureWarning: `sparse` was renamed to `sparse_output` in version 1.2 and will be removed in 1.4. `sparse_output` is ignored unless you leave `sparse` to its default value.\n",
      "  warnings.warn(\n"
     ]
    },
    {
     "name": "stdout",
     "output_type": "stream",
     "text": [
      "          floor      area     rooms  offer_type_Estate Agency  \\\n",
      "0     -0.650437 -0.020178 -1.823066                       0.0   \n",
      "1     -0.650437 -0.017477 -1.823066                       0.0   \n",
      "2     -0.182783 -0.020854 -1.823066                       1.0   \n",
      "3      0.284870 -0.020455 -1.823066                       0.0   \n",
      "4      0.284870 -0.020516 -1.823066                       1.0   \n",
      "...         ...       ...       ...                       ...   \n",
      "55983 -0.650437 -0.010048  1.891986                       0.0   \n",
      "55984  0.752524 -0.006333  1.891986                       0.0   \n",
      "55985 -1.118090  0.011902  1.891986                       0.0   \n",
      "55986  0.752524 -0.002281  1.891986                       0.0   \n",
      "55987  0.284870  0.006128  1.891986                       0.0   \n",
      "\n",
      "       offer_type_Private  offer_type_of_building_Apartment Building  \\\n",
      "0                     1.0                                        0.0   \n",
      "1                     1.0                                        0.0   \n",
      "2                     0.0                                        0.0   \n",
      "3                     1.0                                        1.0   \n",
      "4                     0.0                                        0.0   \n",
      "...                   ...                                        ...   \n",
      "55983                 1.0                                        0.0   \n",
      "55984                 1.0                                        0.0   \n",
      "55985                 1.0                                        0.0   \n",
      "55986                 1.0                                        0.0   \n",
      "55987                 1.0                                        0.0   \n",
      "\n",
      "       offer_type_of_building_Housing Block  offer_type_of_building_Loft  \\\n",
      "0                                       1.0                          0.0   \n",
      "1                                       1.0                          0.0   \n",
      "2                                       1.0                          0.0   \n",
      "3                                       0.0                          0.0   \n",
      "4                                       1.0                          0.0   \n",
      "...                                     ...                          ...   \n",
      "55983                                   0.0                          0.0   \n",
      "55984                                   1.0                          0.0   \n",
      "55985                                   1.0                          0.0   \n",
      "55986                                   1.0                          0.0   \n",
      "55987                                   1.0                          0.0   \n",
      "\n",
      "       offer_type_of_building_Other  offer_type_of_building_Tenement  ...  \\\n",
      "0                               0.0                              0.0  ...   \n",
      "1                               0.0                              0.0  ...   \n",
      "2                               0.0                              0.0  ...   \n",
      "3                               0.0                              0.0  ...   \n",
      "4                               0.0                              0.0  ...   \n",
      "...                             ...                              ...  ...   \n",
      "55983                           0.0                              1.0  ...   \n",
      "55984                           0.0                              0.0  ...   \n",
      "55985                           0.0                              0.0  ...   \n",
      "55986                           0.0                              0.0  ...   \n",
      "55987                           0.0                              0.0  ...   \n",
      "\n",
      "       voivodeship_Opole  voivodeship_Podlaskie  voivodeship_Pomerania  \\\n",
      "0                    0.0                    0.0                    0.0   \n",
      "1                    0.0                    0.0                    0.0   \n",
      "2                    0.0                    0.0                    0.0   \n",
      "3                    0.0                    0.0                    0.0   \n",
      "4                    0.0                    0.0                    0.0   \n",
      "...                  ...                    ...                    ...   \n",
      "55983                0.0                    0.0                    0.0   \n",
      "55984                0.0                    0.0                    0.0   \n",
      "55985                0.0                    0.0                    0.0   \n",
      "55986                0.0                    0.0                    0.0   \n",
      "55987                0.0                    0.0                    0.0   \n",
      "\n",
      "       voivodeship_Silesia  voivodeship_Subcarpathia  \\\n",
      "0                      0.0                       0.0   \n",
      "1                      0.0                       0.0   \n",
      "2                      0.0                       0.0   \n",
      "3                      0.0                       0.0   \n",
      "4                      0.0                       0.0   \n",
      "...                    ...                       ...   \n",
      "55983                  0.0                       0.0   \n",
      "55984                  0.0                       0.0   \n",
      "55985                  0.0                       0.0   \n",
      "55986                  0.0                       0.0   \n",
      "55987                  0.0                       0.0   \n",
      "\n",
      "       voivodeship_Warmia-Masuria  voivodeship_West Pomerania  \\\n",
      "0                             0.0                         0.0   \n",
      "1                             0.0                         0.0   \n",
      "2                             0.0                         0.0   \n",
      "3                             0.0                         0.0   \n",
      "4                             0.0                         0.0   \n",
      "...                           ...                         ...   \n",
      "55983                         0.0                         1.0   \n",
      "55984                         0.0                         1.0   \n",
      "55985                         0.0                         1.0   \n",
      "55986                         0.0                         1.0   \n",
      "55987                         0.0                         1.0   \n",
      "\n",
      "       voivodeship_Świętokrzyskie  market_aftermarket  market_primary  \n",
      "0                             0.0                 0.0             1.0  \n",
      "1                             0.0                 0.0             1.0  \n",
      "2                             0.0                 0.0             1.0  \n",
      "3                             0.0                 0.0             1.0  \n",
      "4                             0.0                 0.0             1.0  \n",
      "...                           ...                 ...             ...  \n",
      "55983                         0.0                 1.0             0.0  \n",
      "55984                         0.0                 1.0             0.0  \n",
      "55985                         0.0                 1.0             0.0  \n",
      "55986                         0.0                 1.0             0.0  \n",
      "55987                         0.0                 1.0             0.0  \n",
      "\n",
      "[55988 rows x 636 columns]\n"
     ]
    }
   ],
   "source": [
    "# Convert categorical columns to string type\n",
    "categorical_cols = ['offer_type', 'offer_type_of_building', 'city_name', 'voivodeship','market']\n",
    "\n",
    "# Step 3: Feature Selection and Encoding\n",
    "X = data[['floor', 'area', 'rooms']+categorical_cols ]\n",
    "y = data['price']\n",
    "\n",
    "# Perform one-hot encoding for categorical variables except 'market'\n",
    "encoder = OneHotEncoder(sparse=False)\n",
    "X_encoded = pd.DataFrame(encoder.fit_transform(X[categorical_cols]))\n",
    "X_encoded.columns = encoder.get_feature_names_out(categorical_cols)\n",
    "\n",
    "# Reset the indices of X and X_encoded\n",
    "X = X.reset_index(drop=True)\n",
    "X_encoded = X_encoded.reset_index(drop=True)\n",
    "\n",
    "# Concatenate X and X_encoded\n",
    "X_encoded = pd.concat([X.drop(categorical_cols, axis=1), X_encoded], axis=1)\n",
    "\n",
    "print(X_encoded)\n",
    "# Save the encoder\n",
    "joblib.dump(encoder, \"houses_encoder.joblib\")\n",
    "\n",
    "\n",
    "# Step 5: Train-Test Split\n",
    "X_train, X_test, y_train, y_test = train_test_split(X_encoded, y, test_size=0.2, random_state=42)\n"
   ]
  },
  {
   "cell_type": "code",
   "execution_count": null,
   "metadata": {},
   "outputs": [
    {
     "name": "stdout",
     "output_type": "stream",
     "text": [
      "Best Parameters: {'n_estimators': 400, 'max_depth': 5, 'learning_rate': 0.5}\n",
      "Testing Score: 0.7084844874571001\n",
      "Root Mean Squared Error: 76234.81954410978\n",
      "Mean Absolute Error: 54464.53044819664\n"
     ]
    }
   ],
   "source": [
    "from sklearn.model_selection import GridSearchCV,RandomizedSearchCV\n",
    "import numpy as np\n",
    "# Step 6: Model Selection\n",
    "model = GradientBoostingRegressor(random_state=42)\n",
    "\n",
    "# Step 7: Define the hyperparameter grid\n",
    "param_grid = {\n",
    "    'n_estimators': [100, 200, 300],\n",
    "    'learning_rate': [0.01, 0.1, 0.5],\n",
    "    'max_depth': [3, 4, 5]\n",
    "}\n",
    "\n",
    "# Step 7: Define the hyperparameter distributions\n",
    "param_distributions = {\n",
    "    'n_estimators': np.arange(100, 501, 100),\n",
    "    'learning_rate': [0.01, 0.1, 0.5],\n",
    "    'max_depth': [3, 4, 5]\n",
    "}\n",
    "\n",
    "# Step 8: Perform random search\n",
    "random_search = RandomizedSearchCV(model, param_distributions, cv=5, n_iter=10, random_state=42)\n",
    "random_search.fit(X_train, y_train)\n",
    "\n",
    "# Step 9: Retrieve the best model\n",
    "best_model = random_search.best_estimator_\n",
    "\n",
    "# Step 10: Model Evaluation\n",
    "y_pred = best_model.predict(X_test)\n",
    "\n",
    "\n",
    "print(\"Best Parameters:\", random_search.best_params_)\n",
    "print(\"Testing Score:\", best_model.score(X_test, y_test))\n",
    "\n",
    "# Calculate RMSE\n",
    "rmse = mean_squared_error(y_test, y_pred, squared=False)\n",
    "print(\"Root Mean Squared Error:\", rmse)\n",
    "\n",
    "# Calculate MAE\n",
    "mae = mean_absolute_error(y_test, y_pred)\n",
    "print(\"Mean Absolute Error:\", mae)"
   ]
  },
  {
   "cell_type": "code",
   "execution_count": null,
   "metadata": {},
   "outputs": [
    {
     "data": {
      "text/plain": [
       "['houses_gb_model.joblib']"
      ]
     },
     "execution_count": 187,
     "metadata": {},
     "output_type": "execute_result"
    }
   ],
   "source": [
    "# Save the encoder\n",
    "joblib.dump(best_model, \"houses_gb_model.joblib\")\n",
    "# model = GradientBoostingRegressor(learning_rate= 0.5, max_depth= 5, n_estimators= 300,random_state=42)\n",
    "# model.fit(X_train, y_train)\n",
    "\n",
    "# y_pred = model.predict(X_test)\n",
    "\n",
    "# # Calculate RMSE\n",
    "# rmse = mean_squared_error(y_test, y_pred, squared=False)\n",
    "# print(\"Root Mean Squared Error:\", rmse)\n",
    "\n",
    "# # Calculate MAE\n",
    "# mae = mean_absolute_error(y_test, y_pred)\n",
    "# print(\"Mean Absolute Error:\", mae)\n"
   ]
  },
  {
   "cell_type": "code",
   "execution_count": null,
   "metadata": {},
   "outputs": [
    {
     "ename": "NameError",
     "evalue": "name 'encoder' is not defined",
     "output_type": "error",
     "traceback": [
      "\u001b[0;31m---------------------------------------------------------------------------\u001b[0m",
      "\u001b[0;31mNameError\u001b[0m                                 Traceback (most recent call last)",
      "Cell \u001b[0;32mIn[2], line 36\u001b[0m\n\u001b[1;32m     33\u001b[0m transformer\u001b[38;5;241m=\u001b[39mjoblib\u001b[38;5;241m.\u001b[39mload(\u001b[38;5;124m\"\u001b[39m\u001b[38;5;124mhouses_encoder.joblib\u001b[39m\u001b[38;5;124m\"\u001b[39m)\n\u001b[1;32m     35\u001b[0m \u001b[38;5;66;03m# Apply the encoder to the new data\u001b[39;00m\n\u001b[0;32m---> 36\u001b[0m new_data_encoded \u001b[38;5;241m=\u001b[39m pd\u001b[38;5;241m.\u001b[39mDataFrame(\u001b[43mencoder\u001b[49m\u001b[38;5;241m.\u001b[39mtransform(new_data[categorical_cols]))\n\u001b[1;32m     37\u001b[0m new_data_encoded \u001b[38;5;241m=\u001b[39m pd\u001b[38;5;241m.\u001b[39mDataFrame(new_data_encoded, columns\u001b[38;5;241m=\u001b[39mencoder\u001b[38;5;241m.\u001b[39mget_feature_names_out(categorical_cols))\n\u001b[1;32m     40\u001b[0m \u001b[38;5;66;03m# Replace values in new_data_encoded with values from df1\u001b[39;00m\n",
      "\u001b[0;31mNameError\u001b[0m: name 'encoder' is not defined"
     ]
    }
   ],
   "source": [
    "from sklearn.linear_model import LinearRegression\n",
    "from sklearn.ensemble import RandomForestRegressor, GradientBoostingRegressor\n",
    "import pandas as pd\n",
    "from sklearn.compose import ColumnTransformer\n",
    "from sklearn.preprocessing import OneHotEncoder,LabelEncoder, StandardScaler\n",
    "from sklearn.metrics import mean_squared_error, mean_absolute_error\n",
    "from sklearn.model_selection import train_test_split\n",
    "import joblib\n",
    "\n",
    "#Prediction on a sample data object\n",
    "# Convert categorical columns to string type\n",
    "categorical_cols = ['offer_type', 'offer_type_of_building', 'city_name', 'voivodeship','market']\n",
    "\n",
    "#Using inference on given data\n",
    "new_data = pd.DataFrame({\n",
    "    'offer_type':['Private'], \n",
    "    'offer_type_of_building':['Housing Block'],\n",
    "    'city_name':['Bolesławiec'],\n",
    "    'voivodeship':['Lower Silesia'],\n",
    "    'market':['primary'],\n",
    "    'floor':[1],\n",
    "    'area':[27], \n",
    "    'rooms':[1]\n",
    "})\n",
    "\n",
    "scaler = joblib.load('houses_stdscaler.joblib')\n",
    "new_data_scaled = scaler.fit_transform(new_data[['rooms', 'floor','area']]) # Apply to numerical columns\n",
    "new_data_scaled = pd.DataFrame(new_data_scaled, columns=['floor', 'area', 'rooms'])\n",
    "\n",
    "df1=pd.get_dummies(new_data, columns=categorical_cols)\n",
    "# print(df1)\n",
    "# Load the saved OneHotEncoder\n",
    "transformer=joblib.load(\"houses_encoder.joblib\")\n",
    "\n",
    "# Apply the encoder to the new data\n",
    "new_data_encoded = pd.DataFrame(encoder.transform(new_data[categorical_cols]))\n",
    "new_data_encoded = pd.DataFrame(new_data_encoded, columns=encoder.get_feature_names_out(categorical_cols))\n",
    "\n",
    "\n",
    "# Replace values in new_data_encoded with values from df1\n",
    "new_data_encoded.update(df1)\n",
    "\n",
    "\n",
    "# Concatenate the encoded categorical variables with the scaled numerical columns\n",
    "final_data = pd.concat([new_data_scaled, new_data_encoded], axis=1)\n",
    "\n",
    "\n",
    "# Replace NaN values with 0\n",
    "final_data = final_data.fillna(0)\n",
    "\n",
    "model=joblib.load('houses_gb_model.joblib')\n",
    "\n",
    "#The predicition\n",
    "predictions=model.predict(final_data)\n",
    "\n",
    "print(predictions)"
   ]
  }
 ],
 "metadata": {
  "kernelspec": {
   "display_name": "base",
   "language": "python",
   "name": "python3"
  },
  "language_info": {
   "codemirror_mode": {
    "name": "ipython",
    "version": 3
   },
   "file_extension": ".py",
   "mimetype": "text/x-python",
   "name": "python",
   "nbconvert_exporter": "python",
   "pygments_lexer": "ipython3",
   "version": "3.8.10"
  }
 },
 "nbformat": 4,
 "nbformat_minor": 2
}
