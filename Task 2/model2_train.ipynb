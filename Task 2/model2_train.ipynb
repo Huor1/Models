{
 "cells": [
  {
   "cell_type": "code",
   "execution_count": 170,
   "metadata": {},
   "outputs": [],
   "source": [
    "from sklearn.linear_model import LinearRegression\n",
    "from sklearn.ensemble import RandomForestRegressor, GradientBoostingRegressor\n",
    "import pandas as pd\n",
    "from sklearn.compose import ColumnTransformer\n",
    "from sklearn.preprocessing import OneHotEncoder,LabelEncoder, StandardScaler\n",
    "from sklearn.metrics import mean_squared_error, mean_absolute_error\n",
    "from sklearn.model_selection import train_test_split\n",
    "import joblib\n",
    "\n"
   ]
  },
  {
   "cell_type": "code",
   "execution_count": 171,
   "metadata": {},
   "outputs": [],
   "source": [
    "\n",
    "# Step 1: Data Preparation\n",
    "data = pd.read_excel(\"OlxDanedowgrania_2.xlsx\")  # Replace \"your_dataset.csv\" with the actual file name\n"
   ]
  },
  {
   "cell_type": "code",
   "execution_count": 172,
   "metadata": {},
   "outputs": [
    {
     "data": {
      "text/plain": [
       "(62635, 20)"
      ]
     },
     "execution_count": 172,
     "metadata": {},
     "output_type": "execute_result"
    }
   ],
   "source": [
    "# Remove rows with string characters in 'floor', 'rooms', or 'area' columns\n",
    "\n",
    "data.shape\n",
    "data = data[~data['floor'].apply(lambda x: isinstance(x, str))]\n",
    "data = data[~data['rooms'].apply(lambda x: isinstance(x, str))]\n",
    "data = data[~data['area'].apply(lambda x: isinstance(x, str))]\n",
    "data = data[~data['price'].apply(lambda x: isinstance(x, str))]\n",
    "\n",
    "# #Reset the row index\n",
    "data = data.reset_index(drop=True)\n",
    "data.shape\n",
    "\n",
    "\n",
    "\n"
   ]
  },
  {
   "cell_type": "code",
   "execution_count": 173,
   "metadata": {},
   "outputs": [],
   "source": [
    "data= data.drop(['Unnamed: 16',  'Unnamed: 17' , 'Unnamed: 18', 'Unnamed: 19' ], axis=1)\n",
    "data=data.drop([ 'price_per_meter','offer_title','month' , 'year' ,'population'   ,'longitude','latitude'],axis=1)"
   ]
  },
  {
   "cell_type": "code",
   "execution_count": 174,
   "metadata": {},
   "outputs": [],
   "source": [
    "data=data.drop_duplicates()\n",
    "data=data.dropna()\n",
    "\n"
   ]
  },
  {
   "cell_type": "code",
   "execution_count": 175,
   "metadata": {},
   "outputs": [
    {
     "data": {
      "text/html": [
       "<div>\n",
       "<style scoped>\n",
       "    .dataframe tbody tr th:only-of-type {\n",
       "        vertical-align: middle;\n",
       "    }\n",
       "\n",
       "    .dataframe tbody tr th {\n",
       "        vertical-align: top;\n",
       "    }\n",
       "\n",
       "    .dataframe thead th {\n",
       "        text-align: right;\n",
       "    }\n",
       "</style>\n",
       "<table border=\"1\" class=\"dataframe\">\n",
       "  <thead>\n",
       "    <tr style=\"text-align: right;\">\n",
       "      <th></th>\n",
       "      <th>price</th>\n",
       "      <th>offer_type</th>\n",
       "      <th>floor</th>\n",
       "      <th>area</th>\n",
       "      <th>rooms</th>\n",
       "      <th>offer_type_of_building</th>\n",
       "      <th>market</th>\n",
       "      <th>city_name</th>\n",
       "      <th>voivodeship</th>\n",
       "    </tr>\n",
       "  </thead>\n",
       "  <tbody>\n",
       "    <tr>\n",
       "      <th>0</th>\n",
       "      <td>240000</td>\n",
       "      <td>Private</td>\n",
       "      <td>1</td>\n",
       "      <td>27.00</td>\n",
       "      <td>1</td>\n",
       "      <td>Housing Block</td>\n",
       "      <td>primary</td>\n",
       "      <td>Bolesławiec</td>\n",
       "      <td>Lower Silesia</td>\n",
       "    </tr>\n",
       "    <tr>\n",
       "      <th>1</th>\n",
       "      <td>250000</td>\n",
       "      <td>Private</td>\n",
       "      <td>1</td>\n",
       "      <td>35.00</td>\n",
       "      <td>1</td>\n",
       "      <td>Housing Block</td>\n",
       "      <td>primary</td>\n",
       "      <td>Jelcz-Laskowice</td>\n",
       "      <td>Lower Silesia</td>\n",
       "    </tr>\n",
       "    <tr>\n",
       "      <th>2</th>\n",
       "      <td>259000</td>\n",
       "      <td>Estate Agency</td>\n",
       "      <td>2</td>\n",
       "      <td>25.00</td>\n",
       "      <td>1</td>\n",
       "      <td>Housing Block</td>\n",
       "      <td>primary</td>\n",
       "      <td>Wrocław</td>\n",
       "      <td>Lower Silesia</td>\n",
       "    </tr>\n",
       "    <tr>\n",
       "      <th>3</th>\n",
       "      <td>269000</td>\n",
       "      <td>Private</td>\n",
       "      <td>3</td>\n",
       "      <td>26.18</td>\n",
       "      <td>1</td>\n",
       "      <td>Apartment Building</td>\n",
       "      <td>primary</td>\n",
       "      <td>Wrocław</td>\n",
       "      <td>Lower Silesia</td>\n",
       "    </tr>\n",
       "    <tr>\n",
       "      <th>4</th>\n",
       "      <td>258000</td>\n",
       "      <td>Estate Agency</td>\n",
       "      <td>3</td>\n",
       "      <td>26.00</td>\n",
       "      <td>1</td>\n",
       "      <td>Housing Block</td>\n",
       "      <td>primary</td>\n",
       "      <td>Wrocław</td>\n",
       "      <td>Lower Silesia</td>\n",
       "    </tr>\n",
       "  </tbody>\n",
       "</table>\n",
       "</div>"
      ],
      "text/plain": [
       "    price     offer_type  floor   area  rooms offer_type_of_building   market  \\\n",
       "0  240000        Private      1  27.00      1          Housing Block  primary   \n",
       "1  250000        Private      1  35.00      1          Housing Block  primary   \n",
       "2  259000  Estate Agency      2  25.00      1          Housing Block  primary   \n",
       "3  269000        Private      3  26.18      1     Apartment Building  primary   \n",
       "4  258000  Estate Agency      3  26.00      1          Housing Block  primary   \n",
       "\n",
       "         city_name    voivodeship  \n",
       "0      Bolesławiec  Lower Silesia  \n",
       "1  Jelcz-Laskowice  Lower Silesia  \n",
       "2          Wrocław  Lower Silesia  \n",
       "3          Wrocław  Lower Silesia  \n",
       "4          Wrocław  Lower Silesia  "
      ]
     },
     "execution_count": 175,
     "metadata": {},
     "output_type": "execute_result"
    }
   ],
   "source": [
    "#Pre Processing\n",
    "data['rooms'] = data['rooms'].astype(int)\n",
    "data['floor'] = data['floor'].astype(int)\n",
    "data['price'] = data['price'].astype(int)\n",
    "data['area'] = data['area'].astype(float)\n",
    "\n",
    "\n",
    "data.head()"
   ]
  },
  {
   "cell_type": "code",
   "execution_count": 176,
   "metadata": {},
   "outputs": [],
   "source": [
    "# Define a function to calculate IQR and detect outliers\n",
    "def detect_outliers(df, column):\n",
    "    Q1 = df[column].quantile(0.25)\n",
    "    Q3 = df[column].quantile(0.75)\n",
    "    IQR = Q3 - Q1\n",
    "    upper_bound = Q3 + 1.5 * IQR\n",
    "    lower_bound = Q1 - 1.5 * IQR\n",
    "    outliers = df[(df[column] > upper_bound) | (df[column] < lower_bound)]\n",
    "    return outliers"
   ]
  },
  {
   "cell_type": "code",
   "execution_count": 177,
   "metadata": {},
   "outputs": [
    {
     "name": "stdout",
     "output_type": "stream",
     "text": [
      "Number of outliers in 'price': 2787\n"
     ]
    }
   ],
   "source": [
    "# Detect outliers in 'mileage'\n",
    "price_outliers = detect_outliers(data, 'price')\n",
    "print(f\"Number of outliers in 'price': {len(price_outliers)}\")"
   ]
  },
  {
   "cell_type": "code",
   "execution_count": 178,
   "metadata": {},
   "outputs": [
    {
     "data": {
      "text/plain": [
       "price                     0\n",
       "offer_type                0\n",
       "floor                     0\n",
       "area                      0\n",
       "rooms                     0\n",
       "offer_type_of_building    0\n",
       "market                    0\n",
       "city_name                 0\n",
       "voivodeship               0\n",
       "dtype: int64"
      ]
     },
     "execution_count": 178,
     "metadata": {},
     "output_type": "execute_result"
    }
   ],
   "source": [
    "data.isnull().sum()"
   ]
  },
  {
   "cell_type": "code",
   "execution_count": 179,
   "metadata": {},
   "outputs": [
    {
     "data": {
      "text/html": [
       "<style type=\"text/css\">\n",
       "#T_3e6f6_row0_col0 {\n",
       "  background-color: #00ffff;\n",
       "  color: #000000;\n",
       "}\n",
       "#T_3e6f6_row1_col0 {\n",
       "  background-color: #e0f3f3;\n",
       "  color: #000000;\n",
       "}\n",
       "#T_3e6f6_row2_col0, #T_3e6f6_row3_col0 {\n",
       "  background-color: #e8f3f3;\n",
       "  color: #000000;\n",
       "}\n",
       "</style>\n",
       "<table id=\"T_3e6f6_\">\n",
       "  <thead>\n",
       "    <tr>\n",
       "      <th class=\"blank level0\" >&nbsp;</th>\n",
       "      <th class=\"col_heading level0 col0\" >price</th>\n",
       "    </tr>\n",
       "  </thead>\n",
       "  <tbody>\n",
       "    <tr>\n",
       "      <th id=\"T_3e6f6_level0_row0\" class=\"row_heading level0 row0\" >price</th>\n",
       "      <td id=\"T_3e6f6_row0_col0\" class=\"data row0 col0\" >1.000000</td>\n",
       "    </tr>\n",
       "    <tr>\n",
       "      <th id=\"T_3e6f6_level0_row1\" class=\"row_heading level0 row1\" >rooms</th>\n",
       "      <td id=\"T_3e6f6_row1_col0\" class=\"data row1 col0\" >0.038093</td>\n",
       "    </tr>\n",
       "    <tr>\n",
       "      <th id=\"T_3e6f6_level0_row2\" class=\"row_heading level0 row2\" >floor</th>\n",
       "      <td id=\"T_3e6f6_row2_col0\" class=\"data row2 col0\" >0.001027</td>\n",
       "    </tr>\n",
       "    <tr>\n",
       "      <th id=\"T_3e6f6_level0_row3\" class=\"row_heading level0 row3\" >area</th>\n",
       "      <td id=\"T_3e6f6_row3_col0\" class=\"data row3 col0\" >0.000190</td>\n",
       "    </tr>\n",
       "  </tbody>\n",
       "</table>\n"
      ],
      "text/plain": [
       "<pandas.io.formats.style.Styler at 0x14663196550>"
      ]
     },
     "execution_count": 179,
     "metadata": {},
     "output_type": "execute_result"
    }
   ],
   "source": [
    "import seaborn as sns\n",
    "import matplotlib as plt\n",
    "correlation = data.corr()['price'].sort_values(ascending = False).to_frame().head(10)\n",
    "\n",
    "cmap = sns.light_palette(\"cyan\", as_cmap = True)\n",
    "\n",
    "s = correlation.style.background_gradient(cmap = cmap)\n",
    "\n",
    "s"
   ]
  },
  {
   "cell_type": "code",
   "execution_count": 180,
   "metadata": {},
   "outputs": [],
   "source": [
    "# Remove outliers from the dataset\n",
    "data = data[~data.index.isin(price_outliers.index)]"
   ]
  },
  {
   "cell_type": "code",
   "execution_count": 181,
   "metadata": {},
   "outputs": [
    {
     "data": {
      "text/plain": [
       "['houses_stdscaler.joblib']"
      ]
     },
     "execution_count": 181,
     "metadata": {},
     "output_type": "execute_result"
    }
   ],
   "source": [
    "\n",
    "\n",
    "# Normalize numerical columns\n",
    "numerical_cols = ['rooms', 'floor','area']\n",
    "scaler = StandardScaler()\n",
    "data[numerical_cols] = scaler.fit_transform(data[numerical_cols])\n",
    "joblib.dump(scaler, \"houses_stdscaler.joblib\")\n"
   ]
  },
  {
   "cell_type": "code",
   "execution_count": 182,
   "metadata": {},
   "outputs": [
    {
     "name": "stderr",
     "output_type": "stream",
     "text": [
      "c:\\Users\\asde0\\anaconda3\\lib\\site-packages\\sklearn\\preprocessing\\_encoders.py:868: FutureWarning: `sparse` was renamed to `sparse_output` in version 1.2 and will be removed in 1.4. `sparse_output` is ignored unless you leave `sparse` to its default value.\n",
      "  warnings.warn(\n"
     ]
    },
    {
     "name": "stdout",
     "output_type": "stream",
     "text": [
      "          floor      area     rooms  offer_type_Estate Agency  \\\n",
      "0     -0.650437 -0.020178 -1.823066                       0.0   \n",
      "1     -0.650437 -0.017477 -1.823066                       0.0   \n",
      "2     -0.182783 -0.020854 -1.823066                       1.0   \n",
      "3      0.284870 -0.020455 -1.823066                       0.0   \n",
      "4      0.284870 -0.020516 -1.823066                       1.0   \n",
      "...         ...       ...       ...                       ...   \n",
      "55983 -0.650437 -0.010048  1.891986                       0.0   \n",
      "55984  0.752524 -0.006333  1.891986                       0.0   \n",
      "55985 -1.118090  0.011902  1.891986                       0.0   \n",
      "55986  0.752524 -0.002281  1.891986                       0.0   \n",
      "55987  0.284870  0.006128  1.891986                       0.0   \n",
      "\n",
      "       offer_type_Private  offer_type_of_building_Apartment Building  \\\n",
      "0                     1.0                                        0.0   \n",
      "1                     1.0                                        0.0   \n",
      "2                     0.0                                        0.0   \n",
      "3                     1.0                                        1.0   \n",
      "4                     0.0                                        0.0   \n",
      "...                   ...                                        ...   \n",
      "55983                 1.0                                        0.0   \n",
      "55984                 1.0                                        0.0   \n",
      "55985                 1.0                                        0.0   \n",
      "55986                 1.0                                        0.0   \n",
      "55987                 1.0                                        0.0   \n",
      "\n",
      "       offer_type_of_building_Housing Block  offer_type_of_building_Loft  \\\n",
      "0                                       1.0                          0.0   \n",
      "1                                       1.0                          0.0   \n",
      "2                                       1.0                          0.0   \n",
      "3                                       0.0                          0.0   \n",
      "4                                       1.0                          0.0   \n",
      "...                                     ...                          ...   \n",
      "55983                                   0.0                          0.0   \n",
      "55984                                   1.0                          0.0   \n",
      "55985                                   1.0                          0.0   \n",
      "55986                                   1.0                          0.0   \n",
      "55987                                   1.0                          0.0   \n",
      "\n",
      "       offer_type_of_building_Other  offer_type_of_building_Tenement  ...  \\\n",
      "0                               0.0                              0.0  ...   \n",
      "1                               0.0                              0.0  ...   \n",
      "2                               0.0                              0.0  ...   \n",
      "3                               0.0                              0.0  ...   \n",
      "4                               0.0                              0.0  ...   \n",
      "...                             ...                              ...  ...   \n",
      "55983                           0.0                              1.0  ...   \n",
      "55984                           0.0                              0.0  ...   \n",
      "55985                           0.0                              0.0  ...   \n",
      "55986                           0.0                              0.0  ...   \n",
      "55987                           0.0                              0.0  ...   \n",
      "\n",
      "       voivodeship_Opole  voivodeship_Podlaskie  voivodeship_Pomerania  \\\n",
      "0                    0.0                    0.0                    0.0   \n",
      "1                    0.0                    0.0                    0.0   \n",
      "2                    0.0                    0.0                    0.0   \n",
      "3                    0.0                    0.0                    0.0   \n",
      "4                    0.0                    0.0                    0.0   \n",
      "...                  ...                    ...                    ...   \n",
      "55983                0.0                    0.0                    0.0   \n",
      "55984                0.0                    0.0                    0.0   \n",
      "55985                0.0                    0.0                    0.0   \n",
      "55986                0.0                    0.0                    0.0   \n",
      "55987                0.0                    0.0                    0.0   \n",
      "\n",
      "       voivodeship_Silesia  voivodeship_Subcarpathia  \\\n",
      "0                      0.0                       0.0   \n",
      "1                      0.0                       0.0   \n",
      "2                      0.0                       0.0   \n",
      "3                      0.0                       0.0   \n",
      "4                      0.0                       0.0   \n",
      "...                    ...                       ...   \n",
      "55983                  0.0                       0.0   \n",
      "55984                  0.0                       0.0   \n",
      "55985                  0.0                       0.0   \n",
      "55986                  0.0                       0.0   \n",
      "55987                  0.0                       0.0   \n",
      "\n",
      "       voivodeship_Warmia-Masuria  voivodeship_West Pomerania  \\\n",
      "0                             0.0                         0.0   \n",
      "1                             0.0                         0.0   \n",
      "2                             0.0                         0.0   \n",
      "3                             0.0                         0.0   \n",
      "4                             0.0                         0.0   \n",
      "...                           ...                         ...   \n",
      "55983                         0.0                         1.0   \n",
      "55984                         0.0                         1.0   \n",
      "55985                         0.0                         1.0   \n",
      "55986                         0.0                         1.0   \n",
      "55987                         0.0                         1.0   \n",
      "\n",
      "       voivodeship_Świętokrzyskie  market_aftermarket  market_primary  \n",
      "0                             0.0                 0.0             1.0  \n",
      "1                             0.0                 0.0             1.0  \n",
      "2                             0.0                 0.0             1.0  \n",
      "3                             0.0                 0.0             1.0  \n",
      "4                             0.0                 0.0             1.0  \n",
      "...                           ...                 ...             ...  \n",
      "55983                         0.0                 1.0             0.0  \n",
      "55984                         0.0                 1.0             0.0  \n",
      "55985                         0.0                 1.0             0.0  \n",
      "55986                         0.0                 1.0             0.0  \n",
      "55987                         0.0                 1.0             0.0  \n",
      "\n",
      "[55988 rows x 636 columns]\n"
     ]
    }
   ],
   "source": [
    "# Convert categorical columns to string type\n",
    "categorical_cols = ['offer_type', 'offer_type_of_building', 'city_name', 'voivodeship','market']\n",
    "\n",
    "# Step 3: Feature Selection and Encoding\n",
    "X = data[['floor', 'area', 'rooms']+categorical_cols ]\n",
    "y = data['price']\n",
    "\n",
    "# Perform one-hot encoding for categorical variables except 'market'\n",
    "encoder = OneHotEncoder(sparse=False)\n",
    "X_encoded = pd.DataFrame(encoder.fit_transform(X[categorical_cols]))\n",
    "X_encoded.columns = encoder.get_feature_names_out(categorical_cols)\n",
    "\n",
    "# Reset the indices of X and X_encoded\n",
    "X = X.reset_index(drop=True)\n",
    "X_encoded = X_encoded.reset_index(drop=True)\n",
    "\n",
    "# Concatenate X and X_encoded\n",
    "X_encoded = pd.concat([X.drop(categorical_cols, axis=1), X_encoded], axis=1)\n",
    "\n",
    "print(X_encoded)\n",
    "# Save the encoder\n",
    "joblib.dump(encoder, \"houses_encoder.joblib\")\n",
    "\n",
    "\n",
    "# Step 5: Train-Test Split\n",
    "X_train, X_test, y_train, y_test = train_test_split(X_encoded, y, test_size=0.2, random_state=42)\n"
   ]
  },
  {
   "cell_type": "code",
   "execution_count": 183,
   "metadata": {},
   "outputs": [
    {
     "name": "stdout",
     "output_type": "stream",
     "text": [
      "Best Parameters: {'n_estimators': 400, 'max_depth': 5, 'learning_rate': 0.5}\n",
      "Testing Score: 0.7084844874571001\n",
      "Root Mean Squared Error: 76234.81954410978\n",
      "Mean Absolute Error: 54464.53044819664\n"
     ]
    }
   ],
   "source": [
    "from sklearn.model_selection import GridSearchCV,RandomizedSearchCV\n",
    "import numpy as np\n",
    "# Step 6: Model Selection\n",
    "model = GradientBoostingRegressor(random_state=42)\n",
    "\n",
    "# Step 7: Define the hyperparameter grid\n",
    "param_grid = {\n",
    "    'n_estimators': [100, 200, 300],\n",
    "    'learning_rate': [0.01, 0.1, 0.5],\n",
    "    'max_depth': [3, 4, 5]\n",
    "}\n",
    "\n",
    "# Step 7: Define the hyperparameter distributions\n",
    "param_distributions = {\n",
    "    'n_estimators': np.arange(100, 501, 100),\n",
    "    'learning_rate': [0.01, 0.1, 0.5],\n",
    "    'max_depth': [3, 4, 5]\n",
    "}\n",
    "\n",
    "# Step 8: Perform random search\n",
    "random_search = RandomizedSearchCV(model, param_distributions, cv=5, n_iter=10, random_state=42)\n",
    "random_search.fit(X_train, y_train)\n",
    "\n",
    "# Step 9: Retrieve the best model\n",
    "best_model = random_search.best_estimator_\n",
    "\n",
    "# Step 10: Model Evaluation\n",
    "y_pred = best_model.predict(X_test)\n",
    "\n",
    "\n",
    "print(\"Best Parameters:\", random_search.best_params_)\n",
    "print(\"Testing Score:\", best_model.score(X_test, y_test))\n",
    "\n",
    "# Calculate RMSE\n",
    "rmse = mean_squared_error(y_test, y_pred, squared=False)\n",
    "print(\"Root Mean Squared Error:\", rmse)\n",
    "\n",
    "# Calculate MAE\n",
    "mae = mean_absolute_error(y_test, y_pred)\n",
    "print(\"Mean Absolute Error:\", mae)"
   ]
  },
  {
   "cell_type": "code",
   "execution_count": 187,
   "metadata": {},
   "outputs": [
    {
     "data": {
      "text/plain": [
       "['houses_gb_model.joblib']"
      ]
     },
     "execution_count": 187,
     "metadata": {},
     "output_type": "execute_result"
    }
   ],
   "source": [
    "# Save the encoder\n",
    "joblib.dump(best_model, \"houses_gb_model.joblib\")\n",
    "# model = GradientBoostingRegressor(learning_rate= 0.5, max_depth= 5, n_estimators= 300,random_state=42)\n",
    "# model.fit(X_train, y_train)\n",
    "\n",
    "# y_pred = model.predict(X_test)\n",
    "\n",
    "# # Calculate RMSE\n",
    "# rmse = mean_squared_error(y_test, y_pred, squared=False)\n",
    "# print(\"Root Mean Squared Error:\", rmse)\n",
    "\n",
    "# # Calculate MAE\n",
    "# mae = mean_absolute_error(y_test, y_pred)\n",
    "# print(\"Mean Absolute Error:\", mae)\n"
   ]
  },
  {
   "cell_type": "code",
   "execution_count": 188,
   "metadata": {},
   "outputs": [
    {
     "name": "stdout",
     "output_type": "stream",
     "text": [
      "[342495.8083086]\n"
     ]
    }
   ],
   "source": [
    "#Prediction on a sample data object\n",
    "# Convert categorical columns to string type\n",
    "categorical_cols = ['offer_type', 'offer_type_of_building', 'city_name', 'voivodeship','market']\n",
    "\n",
    "#Using inference on given data\n",
    "new_data = pd.DataFrame({\n",
    "    'offer_type':['Private'], \n",
    "    'offer_type_of_building':['Housing Block'],\n",
    "    'city_name':['Bolesławiec'],\n",
    "    'voivodeship':['Lower Silesia'],\n",
    "    'market':['primary'],\n",
    "    'floor':[1],\n",
    "    'area':[27], \n",
    "    'rooms':[1]\n",
    "})\n",
    "\n",
    "scaler = joblib.load('houses_stdscaler.joblib')\n",
    "new_data_scaled = scaler.fit_transform(new_data[['rooms', 'floor','area']]) # Apply to numerical columns\n",
    "new_data_scaled = pd.DataFrame(new_data_scaled, columns=['floor', 'area', 'rooms'])\n",
    "\n",
    "df1=pd.get_dummies(new_data, columns=categorical_cols)\n",
    "# print(df1)\n",
    "# Load the saved OneHotEncoder\n",
    "transformer=joblib.load(\"houses_encoder.joblib\")\n",
    "\n",
    "# Apply the encoder to the new data\n",
    "new_data_encoded = pd.DataFrame(encoder.transform(new_data[categorical_cols]))\n",
    "new_data_encoded = pd.DataFrame(new_data_encoded, columns=encoder.get_feature_names_out(categorical_cols))\n",
    "\n",
    "\n",
    "# Replace values in new_data_encoded with values from df1\n",
    "new_data_encoded.update(df1)\n",
    "\n",
    "\n",
    "# Concatenate the encoded categorical variables with the scaled numerical columns\n",
    "final_data = pd.concat([new_data_scaled, new_data_encoded], axis=1)\n",
    "\n",
    "\n",
    "# Replace NaN values with 0\n",
    "final_data = final_data.fillna(0)\n",
    "\n",
    "model=joblib.load('houses_gb_model.joblib')\n",
    "\n",
    "#The predicition\n",
    "predictions=model.predict(final_data)\n",
    "\n",
    "print(predictions)"
   ]
  }
 ],
 "metadata": {
  "kernelspec": {
   "display_name": "base",
   "language": "python",
   "name": "python3"
  },
  "language_info": {
   "codemirror_mode": {
    "name": "ipython",
    "version": 3
   },
   "file_extension": ".py",
   "mimetype": "text/x-python",
   "name": "python",
   "nbconvert_exporter": "python",
   "pygments_lexer": "ipython3",
   "version": "3.9.16"
  }
 },
 "nbformat": 4,
 "nbformat_minor": 2
}
